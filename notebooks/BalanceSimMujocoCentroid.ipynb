{
 "cells": [
  {
   "cell_type": "code",
   "execution_count": 1,
   "id": "ac42c03b",
   "metadata": {},
   "outputs": [
    {
     "name": "stderr",
     "output_type": "stream",
     "text": [
      "\u001b[32m\u001b[1m  Activating\u001b[22m\u001b[39m project at `~/dev/QuadrupedBalance.jl`\n"
     ]
    },
    {
     "ename": "LoadError",
     "evalue": "ArgumentError: Package MuJoCo not found in current path:\n- Run `import Pkg; Pkg.add(\"MuJoCo\")` to install the MuJoCo package.\n",
     "output_type": "error",
     "traceback": [
      "ArgumentError: Package MuJoCo not found in current path:\n- Run `import Pkg; Pkg.add(\"MuJoCo\")` to install the MuJoCo package.\n",
      "",
      "Stacktrace:",
      " [1] require(into::Module, mod::Symbol)",
      "   @ Base ./loading.jl:967",
      " [2] eval",
      "   @ ./boot.jl:373 [inlined]",
      " [3] include_string(mapexpr::typeof(REPL.softscope), mod::Module, code::String, filename::String)",
      "   @ Base ./loading.jl:1196"
     ]
    }
   ],
   "source": [
    "using Pkg\n",
    "Pkg.activate(\"../.\")\n",
    "using MuJoCo \n",
    "using MeshCat\n",
    "using MeshCatMechanisms\n",
    "using DelimitedFiles\n",
    "using TOML\n",
    "using Pkg \n",
    "using RigidBodyDynamics \n",
    "using Rotations: rotation_error, CayleyMap, UnitQuaternion \n",
    "using StaticArrays\n",
    "using ForwardDiff\n",
    "using LinearAlgebra\n",
    "using Rotations\n",
    "using PyPlot \n",
    "using QuadrupedBalance"
   ]
  },
  {
   "cell_type": "code",
   "execution_count": 2,
   "id": "d968d043",
   "metadata": {},
   "outputs": [
    {
     "data": {
      "text/plain": [
       "joint_pd_control (generic function with 1 method)"
      ]
     },
     "execution_count": 2,
     "metadata": {},
     "output_type": "execute_result"
    }
   ],
   "source": [
    "## Mujoco helper functions \n",
    "function get_state(mj_data)\n",
    "    x = zeros(37)\n",
    "    q = mj_data.qpos\n",
    "    q̇ = mj_data.qvel\n",
    "    x[1:4] = q[4:7] \n",
    "    x[5:7] = q[1:3]\n",
    "    x[20:22] = q̇[4:6]\n",
    "    x[23:25] = q̇[1:3]\n",
    "    x[8:19] = QuadrupedBalance.mapMotorArrays(q[8:19], QuadrupedBalance.MotorIDs_c, QuadrupedBalance.MotorIDs_rgb)\n",
    "    x[26:37] = QuadrupedBalance.mapMotorArrays(q̇[7:end], QuadrupedBalance.MotorIDs_c, QuadrupedBalance.MotorIDs_rgb)\n",
    "    return x \n",
    "end \n",
    "\n",
    "function get_sensor(mj_data)\n",
    "    sensor_data = mj_data.sensordata\n",
    "    acc = sensor_data[1:3]\n",
    "    ω = sensor_data[4:6]\n",
    "    encoders = sensor_data[7:18]\n",
    "    vels = sensor_data[19:30]\n",
    "    touches = sensor_data[31:end]\n",
    "    return acc, ω, encoders, vels, touches\n",
    "end \n",
    "\n",
    "function set_state!(muj_data, x)\n",
    "    muj_data.qpos[1:3] = x[5:7]\n",
    "    muj_data.qpos[4:7] = x[1:4]\n",
    "    muj_data.qpos[8:19] = QuadrupedBalance.mapMotorArrays(x[8:19], QuadrupedBalance.MotorIDs_rgb, QuadrupedBalance.MotorIDs_c)  \n",
    "    muj_data.qvel[1:3] = x[23:25]\n",
    "    muj_data.qvel[4:6] = x[20:22]\n",
    "end \n",
    "\n",
    "function joint_linear_interpolation(q_start, q_target, rate)\n",
    "    q_now = q_start * (1-rate) + q_target * rate \n",
    "    return q_now \n",
    "end \n",
    "\n",
    "function joint_pd_control(q, q_des, q_v, Kp, Kd)\n",
    "    q_diff = q - q_des \n",
    "    u = -Kp .* q_diff - Kd .* q_v \n",
    "end "
   ]
  },
  {
   "cell_type": "code",
   "execution_count": 3,
   "id": "019c7342",
   "metadata": {},
   "outputs": [
    {
     "ename": "LoadError",
     "evalue": "UndefVarError: TOML not defined",
     "output_type": "error",
     "traceback": [
      "UndefVarError: TOML not defined",
      "",
      "Stacktrace:",
      " [1] top-level scope",
      "   @ In[3]:2",
      " [2] eval",
      "   @ ./boot.jl:373 [inlined]",
      " [3] include_string(mapexpr::typeof(REPL.softscope), mod::Module, code::String, filename::String)",
      "   @ Base ./loading.jl:1196"
     ]
    }
   ],
   "source": [
    "URDFPATH = joinpath(@__DIR__, \"..\", \"src\",\"a1\",\"urdf\",\"a1.urdf\")\n",
    "data = TOML.parsefile(\"ipopt_eq_point.toml\")\n",
    "x_init = TOML.parsefile(\"resting.toml\")[\"x_init\"]\n",
    "\n",
    "x_eq = data[\"x_eq\"]\n",
    "uf = data[\"u_eq\"]\n",
    "λf = data[\"λ_eq\"];\n",
    "\n",
    "# Configure the state in the standing pose \n",
    "q_stand = x_eq[8:19]\n",
    "q_stand[2:3] .= q_stand[1]\n",
    "q_stand[6:7] .= q_stand[5]\n",
    "q_stand[10:11] .= q_stand[9]"
   ]
  },
  {
   "cell_type": "code",
   "execution_count": 4,
   "id": "72c57d00",
   "metadata": {},
   "outputs": [
    {
     "ename": "LoadError",
     "evalue": "UndefVarError: parse_urdf not defined",
     "output_type": "error",
     "traceback": [
      "UndefVarError: parse_urdf not defined",
      "",
      "Stacktrace:",
      " [1] top-level scope",
      "   @ In[4]:2",
      " [2] eval",
      "   @ ./boot.jl:373 [inlined]",
      " [3] include_string(mapexpr::typeof(REPL.softscope), mod::Module, code::String, filename::String)",
      "   @ Base ./loading.jl:1196"
     ]
    }
   ],
   "source": [
    "### Initializing simulator \n",
    "A1mech = parse_urdf(URDFPATH, floating=true, remove_fixed_tree_joints=false)\n",
    "A1 = QuadrupedBalance.UnitreeA1FullBody(A1mech)\n",
    "mujoco_model = jlModel(\"../src/a1/urdf/a1.xml\")\n",
    "mujoco_data = jlData(mujoco_model)\n",
    "h_sim = mujoco_model.opt.timestep\n",
    "tf = 6.0\n",
    "times = 0:h_sim:tf\n",
    "set_state!(mujoco_data, x_init); mj_step(mujoco_model, mujoco_data);\n",
    "rate_count = 0  \n",
    "\n",
    "K = readdlm(\"maximal_lqr_gain.txt\", '\\t', Float64, '\\n')\n",
    "x_err = zeros(36)\n",
    "xs = zeros(length(times), 37)\n",
    "x_errs = zeros(length(times), 36)\n",
    "us = zeros(length(times), 12);\n",
    "\n",
    "for i = 1:length(times)\n",
    "    global rate_count, q_stand\n",
    "    global acc, ω, encs, vels, touches, err_int\n",
    "    ## get sensor data \n",
    "    acc, ω, encs, vels, touches = get_sensor(mujoco_data)\n",
    "    encs = QuadrupedBalance.mapMotorArrays(encs, QuadrupedBalance.MotorIDs_c, QuadrupedBalance.MotorIDs_rgb)\n",
    "    vels = QuadrupedBalance.mapMotorArrays(vels, QuadrupedBalance.MotorIDs_c, QuadrupedBalance.MotorIDs_rgb) \n",
    "    \n",
    "    ## ground truth state \n",
    "    x = get_state(mujoco_data) \n",
    "    quat_meas = UnitQuaternion(x[1:4])\n",
    "    p = QuadrupedBalance.fk(encs)\n",
    "    com_pos = x[5:7] \n",
    "    p_RL_foot = quat_meas * p[10:12] + com_pos\n",
    "    p_FR_foot = quat_meas * p[1:3] + com_pos\n",
    "    p_support = p_FR_foot[1:2] - p_RL_foot[1:2]\n",
    "    P_project = p_support * p_support' / (p_support' * p_support)\n",
    "\n",
    "    ## calc error and control  \n",
    "    if (rate_count < 3000)\n",
    "        rate_count+=1 \n",
    "        rate = rate_count > 2000 ? 1  : (rate_count / 2000)\n",
    "        q_des = joint_linear_interpolation(x_init[8:19], q_stand, rate)\n",
    "        u = joint_pd_control(x[8:19], q_des, x[26:end], 100, 0)\n",
    "    else \n",
    "        quat_meas = UnitQuaternion(x[1:4])\n",
    "        quat_eq = UnitQuaternion(x_init[1:4])\n",
    "        θ_err = rotation_error(quat_meas, quat_eq, Rotations.CayleyMap()) \n",
    "\n",
    "        # Position error \n",
    "        eq_point = (p_FR_foot[1:2] + p_RL_foot[1:2])/2.0\n",
    "        x_err[4:5] =  quat_eq[1:2,1:2]' * (com_pos[1:2] - eq_point) #- (quat_meas' * ([0.01, 0.0, 0.0]))[1:2]\n",
    "        x_err[6] = (x[7] - x_eq[7])\n",
    "        \n",
    "        x_err[1:3] = θ_err \n",
    "        x_err[7:18] = encs - x_eq[8:19]\n",
    "        x_err[19:21] = ω \n",
    "        x_err[22:23] = quat_eq[1:2,1:2]' * x[23:24] \n",
    "        x_err[24] = x[25] \n",
    "        x_err[25:36] = vels\n",
    "        \n",
    "        ## Attitude and joint errors \n",
    "#         x_err[1:3] = θ_err\n",
    "#         x_err[4:15] = encs - x_eq[8:19]\n",
    "#         x_err[16:18] = ω \n",
    "#         x_err[19:30] = vels\n",
    "         \n",
    "        u = -K*x_err + uf\n",
    "        us[i,:] = u  \n",
    "    end \n",
    "\n",
    "    xs[i,:] = x \n",
    "    x_errs[i,:] = x_err \n",
    "\n",
    "    ## setting control and simulate a step\n",
    "    mujoco_data.ctrl[:] = QuadrupedBalance.mapMotorArrays(u, QuadrupedBalance.MotorIDs_rgb, QuadrupedBalance.MotorIDs_c)\n",
    "    mj_step(mujoco_model, mujoco_data)\n",
    "end "
   ]
  },
  {
   "cell_type": "code",
   "execution_count": 5,
   "id": "25f02b7a",
   "metadata": {},
   "outputs": [
    {
     "ename": "LoadError",
     "evalue": "UndefVarError: Visualizer not defined",
     "output_type": "error",
     "traceback": [
      "UndefVarError: Visualizer not defined",
      "",
      "Stacktrace:",
      " [1] top-level scope",
      "   @ In[5]:1",
      " [2] eval",
      "   @ ./boot.jl:373 [inlined]",
      " [3] include_string(mapexpr::typeof(REPL.softscope), mod::Module, code::String, filename::String)",
      "   @ Base ./loading.jl:1196"
     ]
    }
   ],
   "source": [
    "vis = Visualizer() \n",
    "cur_path = pwd()\n",
    "cd(joinpath(@__DIR__,\"..\",\"src\", \"a1\", \"urdf\"))\n",
    "mvis = MechanismVisualizer(A1mech, URDFVisuals(URDFPATH), vis)\n",
    "cd(cur_path)"
   ]
  },
  {
   "cell_type": "code",
   "execution_count": 6,
   "id": "7c8d99ae",
   "metadata": {},
   "outputs": [
    {
     "ename": "LoadError",
     "evalue": "UndefVarError: times not defined",
     "output_type": "error",
     "traceback": [
      "UndefVarError: times not defined",
      "",
      "Stacktrace:",
      " [1] top-level scope",
      "   @ In[6]:1",
      " [2] eval",
      "   @ ./boot.jl:373 [inlined]",
      " [3] include_string(mapexpr::typeof(REPL.softscope), mod::Module, code::String, filename::String)",
      "   @ Base ./loading.jl:1196"
     ]
    }
   ],
   "source": [
    "q_anim = [xs[i,1:19] for i in 1:length(times)-1]\n",
    "animation = Animation(mvis, times[1:50:end-1], q_anim[1:50:end])\n",
    "setanimation!(mvis, animation);"
   ]
  },
  {
   "cell_type": "code",
   "execution_count": 7,
   "id": "5fb46e9e",
   "metadata": {
    "scrolled": false
   },
   "outputs": [
    {
     "ename": "LoadError",
     "evalue": "UndefVarError: x_errs not defined",
     "output_type": "error",
     "traceback": [
      "UndefVarError: x_errs not defined",
      "",
      "Stacktrace:",
      " [1] top-level scope",
      "   @ In[7]:1",
      " [2] eval",
      "   @ ./boot.jl:373 [inlined]",
      " [3] include_string(mapexpr::typeof(REPL.softscope), mod::Module, code::String, filename::String)",
      "   @ Base ./loading.jl:1196"
     ]
    }
   ],
   "source": [
    "plot(x_errs[3001:end,4:6])"
   ]
  },
  {
   "cell_type": "code",
   "execution_count": 8,
   "id": "11cb650a",
   "metadata": {},
   "outputs": [
    {
     "ename": "LoadError",
     "evalue": "UndefVarError: render not defined",
     "output_type": "error",
     "traceback": [
      "UndefVarError: render not defined",
      "",
      "Stacktrace:",
      " [1] top-level scope",
      "   @ In[8]:1",
      " [2] eval",
      "   @ ./boot.jl:373 [inlined]",
      " [3] include_string(mapexpr::typeof(REPL.softscope), mod::Module, code::String, filename::String)",
      "   @ Base ./loading.jl:1196"
     ]
    }
   ],
   "source": [
    "render(vis)"
   ]
  }
 ],
 "metadata": {
  "kernelspec": {
   "display_name": "Julia 1.7.0",
   "language": "julia",
   "name": "julia-1.7"
  },
  "language_info": {
   "file_extension": ".jl",
   "mimetype": "application/julia",
   "name": "julia",
   "version": "1.7.0"
  }
 },
 "nbformat": 4,
 "nbformat_minor": 5
}
