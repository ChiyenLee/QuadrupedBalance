{
 "cells": [
  {
   "cell_type": "code",
   "execution_count": 65,
   "id": "fe90b503",
   "metadata": {},
   "outputs": [],
   "source": [
    "using LinearAlgebra \n",
    "using Revise \n",
    "using TOML\n",
    "using DelimitedFiles\n",
    "using Pkg \n",
    "using RigidBodyDynamics\n",
    "using ForwardDiff\n",
    "using SparseArrays\n",
    "using QuadrupedBalance"
   ]
  },
  {
   "cell_type": "code",
   "execution_count": 66,
   "id": "c56d73d6",
   "metadata": {},
   "outputs": [
    {
     "data": {
      "text/plain": [
       "maximal_coordinate_lqr"
      ]
     },
     "execution_count": 66,
     "metadata": {},
     "output_type": "execute_result"
    }
   ],
   "source": [
    "\"\"\"Maximal coorindate lqr backward ricatti\"\"\" \n",
    "function maximal_coordinate_lqr(Ad, Bd,Cd,D, Q, R, max_iter=10000)\n",
    "    N = max_iter\n",
    "    n = size(Q,1)\n",
    "    m = size(R,1)\n",
    "    l = size(Cd,2)\n",
    "    P_prev = zeros(n,n)\n",
    "    K_prev = zeros(m,n)\n",
    "    P = zeros(n,n)\n",
    "    Qn = Q\n",
    "    β = 1e-5\n",
    "    K = zeros(m,n)\n",
    "\n",
    "    P_prev .= Qn\n",
    "    K_prev .= K \n",
    "    for k = (N-1):-1:1\n",
    "        H = [R+Bd'*P_prev*Bd     Bd'*P_prev*Cd           Bd'*D'; \n",
    "             Cd'*P_prev*Bd       β*1.0I(6)+Cd'*P_prev*Cd    Cd'*D'; \n",
    "             D*Bd                    D*Cd                        -β*1.0I(6)]\n",
    "\n",
    "        b = [Bd'*P_prev*Ad; Cd'*P_prev*Ad; D*Ad]\n",
    "\n",
    "        KLM = H\\b\n",
    "        K = KLM[1:m,:]\n",
    "        L_ = KLM[m+1:m+l,:]\n",
    "        M = KLM[m+l+1:end,:]\n",
    "\n",
    "        P .= Q + K'*R*K + β*L_'*L_ + (Ad-Bd*K-Cd*L_)'*P_prev*(Ad-Bd*K-Cd*L_) - M'*D*(Ad-Bd*K-Cd*L_)\n",
    "        if norm(K_prev - K) < 1e-8\n",
    "            println(\"Backward Ricatti converged in \", k, \" iterations\")\n",
    "            return K\n",
    "        end\n",
    "        P_prev[:] .= P[:]\n",
    "        K_prev[:] .= K[:]\n",
    "    end\n",
    "\n",
    "    return K\n",
    "end"
   ]
  },
  {
   "cell_type": "code",
   "execution_count": 67,
   "id": "7a6011c9",
   "metadata": {},
   "outputs": [],
   "source": [
    "data = TOML.parsefile(\"ipopt_eq_point.toml\") # load eq point \n",
    "x_eq = data[\"x_eq\"];\n",
    "u_eq = data[\"u_eq\"];\n",
    "λ_eq = data[\"λ_eq\"];"
   ]
  },
  {
   "cell_type": "code",
   "execution_count": 68,
   "id": "d01957f9",
   "metadata": {},
   "outputs": [],
   "source": [
    "urdfpath = joinpath(@__DIR__, \"..\", \"src\",\"a1\",\"urdf\",\"a1.urdf\")\n",
    "A1mech = parse_urdf(urdfpath, floating=true, remove_fixed_tree_joints=false)\n",
    "A1 = QuadrupedBalance.UnitreeA1FullBody(A1mech);\n",
    "foot_contacts = [1, 0, 0, 1] # FR, FL, RR, RL\n",
    "foot_indices = []\n",
    "for i in 1:length(foot_contacts)\n",
    "    if(foot_contacts[i] == 1)\n",
    "        append!(foot_indices, (i-1)*3 .+ (1:3))\n",
    "    end \n",
    "end "
   ]
  },
  {
   "cell_type": "code",
   "execution_count": 70,
   "id": "eabb2c9f",
   "metadata": {},
   "outputs": [],
   "source": [
    "####### Linearizing about Eq point #########\n",
    "A,B,C = QuadrupedBalance.dynamics_jacobians(A1, x_eq, u_eq, λ_eq, foot_indices)\n",
    "# D_fd = QuadrupedBalance.dfk_world(x_eq)[foot_indices, :]\n",
    "D_fd = QuadrupedBalance.spatial_jacobian(A1, x_eq)[foot_indices,:]\n",
    "attitude_error_jacobian = blockdiag(sparse(QuadrupedBalance.quaternion_differential(x_eq[1:4])), sparse(I(33)) )\n",
    "D = D_fd * attitude_error_jacobian;"
   ]
  },
  {
   "cell_type": "code",
   "execution_count": 71,
   "id": "686f228f",
   "metadata": {},
   "outputs": [],
   "source": [
    "####### Discretizing the Dynamics Matrices ####### \n",
    "n = 37 \n",
    "m = 12 \n",
    "n_c = 6 \n",
    "h = 0.001\n",
    "\n",
    "O = [A B C]\n",
    "O = [O; zeros(m+n_c, n+m+n_c)]\n",
    "O_exp = exp(O.*h)\n",
    "Ad = O_exp[1:37, 1:n]\n",
    "Bd = O_exp[1:37, n+1:n+m]\n",
    "Cd = O_exp[1:37, n+m+1:n+m+n_c];\n",
    "Ad = attitude_error_jacobian' * Ad * attitude_error_jacobian  # convert quaternion error to 3 param representation\n",
    "Bd = attitude_error_jacobian' * Bd \n",
    "Cd = attitude_error_jacobian' * Cd;"
   ]
  },
  {
   "cell_type": "code",
   "execution_count": 72,
   "id": "0f15cd01",
   "metadata": {},
   "outputs": [
    {
     "name": "stdout",
     "output_type": "stream",
     "text": [
      "Backward Ricatti converged in 7020 iterations\n"
     ]
    }
   ],
   "source": [
    "############### Setting LQR Gains ###################\n",
    "Q_gains = zeros(36); \n",
    "Q_gains[1] = (1/deg2rad(15)^2) # attitude - x\n",
    "Q_gains[2] = (1/deg2rad(15)^2) # attitude - y\n",
    "Q_gains[3] = (1/deg2rad(15)^2)  # attitude - z \n",
    "Q_gains[4] = (0.0)        # position - x\n",
    "Q_gains[5] = (0.0)        # position - y\n",
    "Q_gains[6] = (0.0)        # position - z\n",
    "Q_gains[6 .+ [1,2,3,4]] .= 1 ./    ([deg2rad(15), deg2rad(15), deg2rad(15), deg2rad(15)]).^2  # Hips  (FR, FL, RR, RL)\n",
    "Q_gains[6 .+ [5,6,7,8]] .= 1 ./    ([deg2rad(15), deg2rad(15), deg2rad(15), deg2rad(15)]).^2  # Thighs (FR, FL, RR, RL)\n",
    "Q_gains[6 .+ [9,10,11,12]] .= 1 ./ ([deg2rad(15), deg2rad(15), deg2rad(15), deg2rad(15)]).^2   # Calves  (FR, FL, RR< RL)\n",
    "Q_gains[19] = Q_gains[1] / 1000 # Angular vel - x \n",
    "Q_gains[20] = Q_gains[2] / 1000 # Angular vel - y \n",
    "Q_gains[21] = Q_gains[3] / 1000 # Angular vel - z\n",
    "Q_gains[22] = Q_gains[4] / 1000 # Vel - x\n",
    "Q_gains[23] = Q_gains[5] / 1000 # Vel - y\n",
    "Q_gains[24] = Q_gains[6] / 1000 # Vel - z\n",
    "Q_gains[25:end] .= Q_gains[7:18] / 1000; # joint damping\n",
    "\n",
    "R_gains = zeros(12);\n",
    "R_gains[[1,2,3,4]] .= 1 ./    ([4.0, 1.0, 1.0, 4.0]).^2 #  Hips (FR, FL, RR, RL)\n",
    "R_gains[[5,6,7,8]] .= 1 ./    ([4.0, 1.0, 1.0, 4.0]).^2 #  Thighs\n",
    "R_gains[[9,10,11,12]] .= 1 ./ ([4.0, 1.0, 1.0, 4.0]).^2 #  Calves\n",
    "\n",
    "Q = sparse(Diagonal(Q_gains)) \n",
    "R = sparse(Diagonal(R_gains)) \n",
    "K = maximal_coordinate_lqr(Ad,Bd,Cd,D, Q,R);"
   ]
  },
  {
   "cell_type": "code",
   "execution_count": 73,
   "id": "c6175c4e",
   "metadata": {},
   "outputs": [],
   "source": [
    "open(\"maximal_lqr_gain.txt\", \"w\") do io\n",
    "    writedlm(io, K)\n",
    "end"
   ]
  }
 ],
 "metadata": {
  "kernelspec": {
   "display_name": "Julia 1.6.3",
   "language": "julia",
   "name": "julia-1.6"
  },
  "language_info": {
   "file_extension": ".jl",
   "mimetype": "application/julia",
   "name": "julia",
   "version": "1.6.3"
  }
 },
 "nbformat": 4,
 "nbformat_minor": 5
}
