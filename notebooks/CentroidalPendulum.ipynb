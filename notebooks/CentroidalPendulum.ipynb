{
 "cells": [
  {
   "cell_type": "code",
   "execution_count": 68,
   "id": "ffb5c2bb",
   "metadata": {},
   "outputs": [
    {
     "name": "stderr",
     "output_type": "stream",
     "text": [
      "\u001b[32m\u001b[1m  Activating\u001b[22m\u001b[39m project at `~/dev/QuadrupedBalance.jl`\n"
     ]
    },
    {
     "data": {
      "text/plain": [
       "QuadrupedBalance"
      ]
     },
     "execution_count": 68,
     "metadata": {},
     "output_type": "execute_result"
    }
   ],
   "source": [
    "using Pkg; Pkg.activate(\"../.\")\n",
    "using Revise\n",
    "using QuadrupedBalance\n",
    "using LinearAlgebra\n",
    "using Rotations\n",
    "using SparseArrays\n",
    "using RobotDynamics\n",
    "using MeshCat\n",
    "const QB = QuadrupedBalance"
   ]
  },
  {
   "cell_type": "code",
   "execution_count": 170,
   "id": "860d425c",
   "metadata": {},
   "outputs": [
    {
     "name": "stdout",
     "output_type": "stream",
     "text": [
      "!!\n"
     ]
    }
   ],
   "source": [
    "let \n",
    "    p = [0.,0.,0.25]\n",
    "    quat = [1.0, 0.0, 0.0, 0.0]\n",
    "    J = Matrix(Diagonal([0.05, 0.12, 0.2]))\n",
    "    m = 12.84\n",
    "    contacts = [false, true, true, false] # FR, FL, RR, RL\n",
    "    foot_pos_body = [0.182, -0.1321, -p[3],\n",
    "                0.182, 0.1321, -p[3], \n",
    "                -0.183, -0.132, -p[3], \n",
    "                -0.18, 0.132, -p[3]]\n",
    "    foot_pos_world = copy(foot_pos_body)\n",
    "    foot_pos_world[3:3:end] .= 0\n",
    "#     foot_pos_world = [(UnitQuaternion(quat)*foot_pos_body[(i-1)*3+1:(i-1)*3+3] + p) for i in 1:4]\n",
    "    model = QB.CentroidalPendulum(J, m, foot_pos_world, foot_pos_body, contacts)\n",
    "    \n",
    "    q = [p;quat]\n",
    "    q̇ = zeros(6)\n",
    "    x = [p..., zeros(3)..., quat..., zeros(3)..., zeros(2)...]\n",
    "    QB.constraints(model, q)\n",
    "    a = QB.dcdq(model, q)    \n",
    "\n",
    "    RobotDynamics.dynamics(model, x, [0,0])\n",
    "    \n",
    "    h = 1e-2\n",
    "    tf = 4.0\n",
    "    times = 0:h:tf\n",
    "    xs = zeros(length(times), 15); xs[1,:] = x\n",
    "    for i in 1:length(times)-1\n",
    "        if i < 100\n",
    "            u = [0, 0]\n",
    "        else \n",
    "            u = [50.0, 0.0]\n",
    "        end\n",
    "        xs[i+1,:] = QB.dynamics_rk4(model, xs[i,:], u, h)\n",
    "        q = xs[i+1,[1:3;7:10]]\n",
    "    end \n",
    "    set_mesh!(vis)\n",
    "    set_animation(vis, model, xs,times, h)\n",
    "end "
   ]
  },
  {
   "cell_type": "code",
   "execution_count": 60,
   "id": "56d399fb",
   "metadata": {},
   "outputs": [
    {
     "name": "stderr",
     "output_type": "stream",
     "text": [
      "┌ Info: MeshCat server started. You can open the visualizer by visiting the following URL in your browser:\n",
      "│ http://127.0.0.1:8703\n",
      "└ @ MeshCat /home/chiyen/.julia/packages/MeshCat/GlCMx/src/visualizer.jl:73\n"
     ]
    },
    {
     "data": {
      "text/plain": [
       "MeshCat Visualizer with path /meshcat at http://127.0.0.1:8703"
      ]
     },
     "execution_count": 60,
     "metadata": {},
     "output_type": "execute_result"
    }
   ],
   "source": [
    "vis = Visualizer()"
   ]
  },
  {
   "cell_type": "code",
   "execution_count": 166,
   "id": "01969383",
   "metadata": {},
   "outputs": [
    {
     "data": {
      "text/plain": [
       "set_animation (generic function with 4 methods)"
      ]
     },
     "execution_count": 166,
     "metadata": {},
     "output_type": "execute_result"
    }
   ],
   "source": [
    "function set_mesh!(vis::Visualizer)\n",
    "    body = MeshCat.HyperRectangle(MeshCat.Vec(-0.1, -0.05, -0.025), MeshCat.Vec(0.2, 0.1, 0.05))\n",
    "    foot1 = MeshCat.HyperSphere(MeshCat.Point3f0(0), 0.01f0)\n",
    "    foot2 = MeshCat.HyperSphere(MeshCat.Point3f0(0), 0.01f0)\n",
    "    setobject!(vis[\"torso\"], body)\n",
    "    setobject!(vis[\"foot1\"], foot1)\n",
    "    setobject!(vis[\"foot2\"], foot2)\n",
    "    settransform!(vis[\"torso\"], MeshCat.Translation(0,0.,0))\n",
    "end \n",
    "\n",
    "function set_animation(vis::Visualizer, model, xs, times, h)\n",
    "    anim = MeshCat.Animation(convert(Int, floor(1.0 / h)))\n",
    "    settransform!(vis[\"foot1\"], MeshCat.Translation(model.foot_pos_world[4:6]))\n",
    "    settransform!(vis[\"foot2\"], MeshCat.Translation(model.foot_pos_world[7:9]))\n",
    "    for i in 1:length(times)\n",
    "        p = xs[i,1:3]\n",
    "        quat = xs[i,7:10]\n",
    "        \n",
    "        MeshCat.atframe(anim, i) do \n",
    "            H = MeshCat.compose(MeshCat.Translation(p), MeshCat.LinearMap(UnitQuaternion(quat)))\n",
    "            settransform!(vis[\"torso\"], H)\n",
    "        end\n",
    "    end\n",
    "    \n",
    "    MeshCat.setanimation!(vis, anim)\n",
    "    println(\"!!\")\n",
    "end \n"
   ]
  },
  {
   "cell_type": "code",
   "execution_count": 61,
   "id": "2ca66cdc",
   "metadata": {},
   "outputs": [
    {
     "data": {
      "text/html": [
       "    <div style=\"height: 500px; width: 100%; overflow-x: auto; overflow-y: hidden; resize: both\">\n",
       "    <iframe src=\"http://127.0.0.1:8703\" style=\"width: 100%; height: 100%; border: none\"></iframe>\n",
       "    </div>\n"
      ],
      "text/plain": [
       "MeshCat.DisplayedVisualizer(MeshCat.CoreVisualizer(MeshCat.SceneTrees.SceneNode(nothing, nothing, Dict{String, Vector{UInt8}}(), nothing, Dict{String, MeshCat.SceneTrees.SceneNode}()), Set{Any}(), ip\"127.0.0.1\", 8703))"
      ]
     },
     "execution_count": 61,
     "metadata": {},
     "output_type": "execute_result"
    }
   ],
   "source": [
    "render(vis)"
   ]
  }
 ],
 "metadata": {
  "kernelspec": {
   "display_name": "Julia 1.7.0",
   "language": "julia",
   "name": "julia-1.7"
  },
  "language_info": {
   "file_extension": ".jl",
   "mimetype": "application/julia",
   "name": "julia",
   "version": "1.7.0"
  }
 },
 "nbformat": 4,
 "nbformat_minor": 5
}
