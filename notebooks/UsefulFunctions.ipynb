{
 "cells": [
  {
   "cell_type": "code",
   "execution_count": 2,
   "id": "5291ae49",
   "metadata": {},
   "outputs": [
    {
     "name": "stderr",
     "output_type": "stream",
     "text": [
      "\u001b[32m\u001b[1m  Activating\u001b[22m\u001b[39m environment at `~/dev/16715-dynamics/QuadrupedBalance/Project.toml`\n"
     ]
    },
    {
     "data": {
      "text/plain": [
       "QuadrupedBalance"
      ]
     },
     "execution_count": 2,
     "metadata": {},
     "output_type": "execute_result"
    }
   ],
   "source": [
    "using Pkg; Pkg.activate(\"../.\")\n",
    "using LinearAlgebra \n",
    "using Revise \n",
    "using TOML\n",
    "using DelimitedFiles\n",
    "using Pkg \n",
    "using RigidBodyDynamics\n",
    "using ForwardDiff\n",
    "using SparseArrays\n",
    "using Rotations\n",
    "using QuadrupedBalance\n",
    "const QB = QuadrupedBalance"
   ]
  },
  {
   "cell_type": "code",
   "execution_count": 3,
   "id": "06ccc429",
   "metadata": {},
   "outputs": [],
   "source": [
    "#### Instantiating a Quadruped model instance\n",
    "## This loads in and create a RigidbodyDynamics mechanism instance, and we then passed it in \n",
    "## to UnitreeA1FullBody in QuadrupedBalance. Full detail in src/rigidbodymodel.jl and src/quadruped_fullbody.jl\n",
    "\n",
    "urdfpath = joinpath(@__DIR__, \"..\", \"src\",\"a1\",\"urdf\",\"a1.urdf\")\n",
    "A1mech = parse_urdf(urdfpath, floating=true, remove_fixed_tree_joints=false)\n",
    "A1 = QuadrupedBalance.UnitreeA1FullBody(A1mech);"
   ]
  },
  {
   "cell_type": "code",
   "execution_count": 8,
   "id": "d473c8ed",
   "metadata": {},
   "outputs": [],
   "source": [
    "#### Floating base Dynamics \n",
    "# load example eq point \n",
    "data = TOML.parsefile(\"ipopt_eq_point.toml\") # load eq point \n",
    "x_eq = data[\"x_eq\"];\n",
    "u_eq = data[\"u_eq\"];\n",
    "λ_eq = data[\"λ_eq\"];\n",
    "\n",
    "ẋ = QB.dynamics(A1, x_eq, u_eq);"
   ]
  },
  {
   "cell_type": "code",
   "execution_count": 16,
   "id": "bbfbe05c",
   "metadata": {},
   "outputs": [],
   "source": [
    "#### state definition\n",
    "\"\"\"\n",
    "    Full body quadruped model and state definition\n",
    "    x = [q; v]\n",
    "    q  = [attitude  [4 x 1]\n",
    "          position  [3 x 1]\n",
    "          hip_angle [4 x 1]\n",
    "          thigh_angle [4 x 1]\n",
    "          calf_angle] [4 x 1]\n",
    "    \n",
    "    v = [ang_vel  [3 x 1]\n",
    "         v_trans (body frame) [3 x 1]\n",
    "         hip_angle [4 x 1]\n",
    "         thigh_angle [4 x 1]\n",
    "         calf_angle] [4 x 1]\n",
    "\"\"\"\n",
    "\n",
    "quat = x_eq[1:4]  # attitude\n",
    "r = x_eq[5:7]  # position\n",
    "q = x_eq[8:19] # joint angles.\n",
    "qv = x_eq[26:end] # joint vel\n",
    "ω = x_eq[20:22]\n",
    "v = x_eq[23:25]\n",
    "\n",
    "### Foward kinematics to the foot\n",
    "p = QB.fk(q) # body frame\n",
    "p_world = QB.fk_world(x_eq) # world frame\n",
    "\n",
    "### Kinematic Jacobian\n",
    "J = QB.dfk(q)\n",
    "J_world = QB.dfk_world(x_eq);"
   ]
  },
  {
   "cell_type": "code",
   "execution_count": 24,
   "id": "0879c412",
   "metadata": {},
   "outputs": [],
   "source": [
    "### Constrained Dynamics \n",
    "# QB.pinned_dynamics (defined in src/quadruped_fullbody.jl) takes in x, u, λ (ground reaction forces)\n",
    "# and foot indices (foot positions that we want to constrain the robot to. In this case, we're constraining\n",
    "# FR, RL foot, therefore 1:3 and 10:12 in the fk vector)\n",
    "\n",
    "foot_indices = [1:3 ; 10:12]\n",
    "QB.pinned_dynamics(A1, x_eq, u_eq, λ_eq, foot_indices) # should be zeros at eq point\n",
    "\n",
    "### Dynamics jacobian\n",
    "# defined in utils.jl, this function diff thru pinned_dynamics and return jacobian w.r.t \n",
    "# x, u, and \\lambda\n",
    "A, B, C = QB.dynamics_jacobians(A1, x_eq, u_eq, λ_eq, foot_indices);"
   ]
  }
 ],
 "metadata": {
  "kernelspec": {
   "display_name": "Julia 1.6.3",
   "language": "julia",
   "name": "julia-1.6"
  },
  "language_info": {
   "file_extension": ".jl",
   "mimetype": "application/julia",
   "name": "julia",
   "version": "1.6.3"
  }
 },
 "nbformat": 4,
 "nbformat_minor": 5
}
