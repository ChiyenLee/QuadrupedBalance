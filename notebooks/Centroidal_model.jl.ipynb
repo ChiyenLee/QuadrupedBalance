{
 "cells": [
  {
   "cell_type": "code",
   "execution_count": 4,
   "id": "2c9aeaa0",
   "metadata": {},
   "outputs": [
    {
     "name": "stderr",
     "output_type": "stream",
     "text": [
      "\u001b[32m\u001b[1m  Activating\u001b[22m\u001b[39m environment at `~/dev/QuadrupedBalance.jl/Project.toml`\n"
     ]
    },
    {
     "data": {
      "application/vnd.webio.node+json": {
       "children": [],
       "instanceArgs": {
        "namespace": "html",
        "tag": "div"
       },
       "nodeType": "DOM",
       "props": {},
       "type": "node"
      },
      "text/html": [
       "<div style=\"padding: 1em; background-color: #f8d6da; border: 1px solid #f5c6cb; font-weight: bold;\">\n",
       "<p>The WebIO Jupyter extension was not detected. See the\n",
       "<a href=\"https://juliagizmos.github.io/WebIO.jl/latest/providers/ijulia/\" target=\"_blank\">\n",
       "    WebIO Jupyter integration documentation\n",
       "</a>\n",
       "for more information.\n",
       "</div>\n"
      ],
      "text/plain": [
       "WebIO._IJuliaInit()"
      ]
     },
     "metadata": {},
     "output_type": "display_data"
    },
    {
     "data": {
      "text/plain": [
       "RobotDynamics"
      ]
     },
     "execution_count": 4,
     "metadata": {},
     "output_type": "execute_result"
    }
   ],
   "source": [
    "using Pkg; Pkg.activate(\"../.\")\n",
    "using Revise\n",
    "using QuadrupedBalance\n",
    "using TOML\n",
    "using RobotDynamics\n",
    "using LinearAlgebra\n",
    "using OSQP\n",
    "using SparseArrays\n",
    "using RigidBodyDynamics\n",
    "using Rotations\n",
    "using PyPlot\n",
    "using MeshCat\n",
    "using MeshCatMechanisms\n",
    "using StaticArrays\n",
    "using DelimitedFiles\n",
    "const QB = QuadrupedBalance\n",
    "const RD = RobotDynamics"
   ]
  },
  {
   "cell_type": "markdown",
   "id": "cbdc0286",
   "metadata": {},
   "source": [
    "## Simulation"
   ]
  },
  {
   "cell_type": "code",
   "execution_count": 5,
   "id": "a2ef4d2f",
   "metadata": {},
   "outputs": [],
   "source": [
    "#### Loading eq point, and setting which foot are in contacts \n",
    "data = TOML.parsefile(\"ipopt_eq_point4.toml\") # load eq point \n",
    "x_eq = data[\"x_eq\"];\n",
    "u_eq = data[\"u_eq\"];\n",
    "λ_eq = data[\"λ_eq\"];\n",
    "\n",
    "urdfpath = joinpath(@__DIR__, \"..\", \"src\",\"a1\",\"urdf\",\"a1.urdf\")\n",
    "A1mech = parse_urdf(urdfpath, floating=true, remove_fixed_tree_joints=false)\n",
    "A1 = QuadrupedBalance.UnitreeA1FullBody(A1mech);\n",
    "foot_contacts = [1, 1, 1, 1] # FR, FL, RR, RL\n",
    "foot_indices = []            # specifies which foot constraints are active \n",
    "for i in 1:length(foot_contacts)\n",
    "    if(foot_contacts[i] == 1)\n",
    "        append!(foot_indices, (i-1)*3 .+ (1:3))\n",
    "    end \n",
    "end "
   ]
  },
  {
   "cell_type": "code",
   "execution_count": 6,
   "id": "fc630c92",
   "metadata": {},
   "outputs": [
    {
     "data": {
      "text/plain": [
       "joint_pd_control (generic function with 1 method)"
      ]
     },
     "execution_count": 6,
     "metadata": {},
     "output_type": "execute_result"
    }
   ],
   "source": [
    "#### Simulation and helper Functions \n",
    "\"\"\"Take a single semi-implicit euler integration step. Returns x_next and λ\"\"\"\n",
    "function semi_implicit_euler(A1::QB.AbstractQuadruped, x::AbstractVector, u::AbstractVector, ϕ_cons::AbstractVector, foot_indices, h)\n",
    "    xn = copy(x)\n",
    "    \n",
    "    # Mass matrix and dynamics bias \n",
    "    M = QB.get_mass_matrix(A1, xn)\n",
    "    C_dyn = QB.get_dynamics_bias(A1, xn)\n",
    "    \n",
    "    # Kinematic Jacobian \n",
    "    attitude_error_jacobian = blockdiag(0.5*sparse(QuadrupedBalance.quaternion_differential(x[1:4])),\n",
    "                                        sparse(Rotations.UnitQuaternion(x[1:4]...)),\n",
    "                                        sparse(I(30)) )\n",
    "    J = QB.dfk_world(x)[foot_indices,:] * attitude_error_jacobian\n",
    "    J = J[:, 1:18]\n",
    "    ϕ = QB.fk_world(xn)[foot_indices]\n",
    "\n",
    "    v_dim = num_velocities(A1.rigidbody.mech)\n",
    "    p_dim = num_positions(A1.rigidbody.mech)\n",
    "    \n",
    "    ## Solving for velocities \n",
    "    damp = 0.0\n",
    "    r = [([zeros(6);u].-C_dyn - [zeros(6);damp*xn[p_dim+6+1:end]])*h.+M*xn[p_dim+1:end]; -ϕ+ϕ_cons] # KKT conditions \n",
    "    H = zeros(v_dim+length(foot_indices), v_dim+length(foot_indices))  \n",
    "    H[1:v_dim,1:v_dim] .= M \n",
    "    H[1:v_dim,v_dim+1:end] .= J'*h \n",
    "    H[v_dim+1:end, 1:v_dim] .= J*h\n",
    "    δ = H \\ r\n",
    "\n",
    "    v_next = δ[1:v_dim]\n",
    "    λ = δ[v_dim+1:end]\n",
    "\n",
    "    ## Integrating \n",
    "    rot = UnitQuaternion(xn[1:4])\n",
    "    v_trans = rot * v_next[4:6]   \n",
    "    xn[5:7] = xn[5:7] + v_trans * h\n",
    "    xn[8:p_dim] .= xn[8:p_dim] + v_next[7:end] *h\n",
    "\n",
    "\n",
    "    # Update attitude\n",
    "    q_dot = 0.5*QB.get_G(x[1:4])*v_next[1:3]*h\n",
    "    xn[1:4] .= QB.L(xn[1:4]) * QB.ρ(v_next[1:3]*h)\n",
    "    xn[1:4] .= xn[1:4]/norm(x[1:4])\n",
    "    xn[p_dim+1:end] .= v_next \n",
    "    return xn, λ\n",
    "end \n",
    "\n",
    "function joint_pd_control(q, q_des, q_v, Kp, Kd)\n",
    "    q_diff = q - q_des \n",
    "    u = -Kp .* q_diff - Kd .* q_v \n",
    "end "
   ]
  },
  {
   "cell_type": "code",
   "execution_count": 22,
   "id": "39a8510f",
   "metadata": {},
   "outputs": [
    {
     "data": {
      "text/plain": [
       "0.001"
      ]
     },
     "execution_count": 22,
     "metadata": {},
     "output_type": "execute_result"
    }
   ],
   "source": [
    "x0 = [1.0, 0.0, 0.0, 0.0, 0.0, 0.0, 0.2, 0.006258056760164729, -0.006258056760164729, 0.0062582194714917916, -0.0062582194714917916, 1.285189569457671, 1.285189569457671, 0.7732865738252106, 0.7732865738252106, -2.058476140950275, -2.058476140950275, -2.058476457584886, -2.058476457584886, 0.0, 0.0, 0.0, 0.0, 0.0, 0.0, 0.0, 0.0, 0.0, 0.0, 0.0, 0.0, 0.0, 0.0, 0.0, 0.0, 0.0, 0.0];\n",
    "ϕ_cons = [0.13080001155680043, -0.13080003741500162, -5.4179754266359126e-8, 0.13080001155680043, 0.13080003741500162, -5.4179754266359126e-8, -0.13079999418039198, -0.1308000052522213, -7.176309269052439e-9, -0.13079999418039198, 0.1308000052522213, -7.176309269052439e-9];\n",
    "h = 0.001"
   ]
  },
  {
   "cell_type": "code",
   "execution_count": 26,
   "id": "60b7aa14",
   "metadata": {},
   "outputs": [
    {
     "data": {
      "text/plain": [
       "37-element Vector{Float64}:\n",
       "  0.9999999997862474\n",
       "  9.188226005866131e-7\n",
       "  2.065118061035759e-5\n",
       " -4.3563524479568386e-7\n",
       " -1.6235168159985326e-5\n",
       "  5.3510653586250705e-9\n",
       "  0.19901622973298239\n",
       "  0.006288346639110328\n",
       " -0.006289663917113162\n",
       "  0.006287769363549995\n",
       " -0.006290229259314629\n",
       "  1.2891151494106328\n",
       "  1.2891150734921797\n",
       "  ⋮\n",
       "  0.0030289878945599876\n",
       " -0.0031607156948434156\n",
       "  0.0029549892058203524\n",
       " -0.0032009787822837874\n",
       "  0.39255799529619156\n",
       "  0.39255040345087794\n",
       "  0.1457670152793755\n",
       "  0.1458234452838665\n",
       " -0.5613774018568651\n",
       " -0.5612871961642147\n",
       " -0.5522590843857077\n",
       " -0.5522565992510046"
      ]
     },
     "execution_count": 26,
     "metadata": {},
     "output_type": "execute_result"
    }
   ],
   "source": [
    "res1 = [0.9999999997862474, 9.188226005866131e-7, 2.065118061035759e-5, -4.3563524479568386e-7, -1.6235168159985326e-5, 5.3510653586250705e-9, 0.19901622973298239, 0.006288346639110328, -0.006289663917113162, 0.006287769363549995, -0.006290229259314629, 1.2891151494106328, 1.2891150734921797, 0.7747442439780043, 0.7747448082780493, -2.064089914968844, -2.0640890129119174, -2.063999048428743, -2.0639990235773964, 9.188226007830138e-5, 0.002065118061477183, -4.35635244888802e-5, -0.0016235168159985326, 5.35106535862507e-7, -0.09837702670176145, 0.0030289878945599876, -0.0031607156948434156, 0.0029549892058203524, -0.0032009787822837874, 0.39255799529619156, 0.39255040345087794, 0.1457670152793755, 0.1458234452838665, -0.5613774018568651, -0.5612871961642147, -0.5522590843857077, -0.5522565992510046]"
   ]
  },
  {
   "cell_type": "code",
   "execution_count": 29,
   "id": "75a68c5d",
   "metadata": {},
   "outputs": [
    {
     "data": {
      "text/plain": [
       "12-element Vector{Float64}:\n",
       "  1.2389840252043522\n",
       " -0.06136424404785313\n",
       " -2.9511181418418753\n",
       "  1.2391821533035297\n",
       "  0.060916818567273726\n",
       " -2.951236208825399\n",
       "  0.553364842948336\n",
       " -0.034792405312054596\n",
       " -1.9318268212147174\n",
       "  0.5535852420453947\n",
       "  0.0343756124264018\n",
       " -1.9318461838512644"
      ]
     },
     "execution_count": 29,
     "metadata": {},
     "output_type": "execute_result"
    }
   ],
   "source": [
    "temp, l1 = semi_implicit_euler(A1, x0, zeros(12), ϕ_cons, foot_indices, 0.01)\n",
    "l1"
   ]
  },
  {
   "cell_type": "markdown",
   "id": "e805b021",
   "metadata": {},
   "source": [
    "## Controller"
   ]
  },
  {
   "cell_type": "code",
   "execution_count": 7,
   "id": "710fd46a",
   "metadata": {},
   "outputs": [],
   "source": [
    "mutable struct Controller \n",
    "    s_des::Vector # desired state \n",
    "    f_des::Vector # desired control vector \n",
    "    A::Matrix     # Linearized state transition jacobian\n",
    "    B::Matrix     # Linearized control jacobian\n",
    "    Q::Matrix     # LQR gain\n",
    "    R::Matrix     # LQR regularization\n",
    "    P::Matrix\n",
    "    h::Float64    # time step size    \n",
    "end"
   ]
  },
  {
   "cell_type": "code",
   "execution_count": 8,
   "id": "56225c68",
   "metadata": {},
   "outputs": [
    {
     "data": {
      "text/plain": [
       "12×12 Matrix{Float64}:\n",
       "  4.01477e-8    0.0           0.0          …   0.0           0.0\n",
       "  0.0           4.01477e-8    0.0              4.01477e-8    0.0\n",
       "  0.0           0.0           4.01477e-8       0.0           4.01477e-8\n",
       "  8.02955e-5    0.0           0.0              0.0           0.0\n",
       "  0.0           8.02955e-5    0.0              8.02955e-5    0.0\n",
       "  0.0           0.0           8.02955e-5   …   0.0           8.02955e-5\n",
       " -6.26649e-17  -4.19677e-7   -6.60241e-7      -4.19985e-7    6.60304e-7\n",
       "  8.39353e-8    1.32547e-19  -1.51775e-7      -1.87079e-19   2.14218e-7\n",
       "  1.1004e-7     1.26479e-7   -6.25324e-17     -1.78515e-7    6.24839e-17\n",
       " -2.50662e-13  -0.00167872   -0.00264096      -0.00167996    0.00264122\n",
       "  0.000335745   5.17748e-16  -0.000607102  …  -7.60764e-16   0.000856873\n",
       "  0.00044016    0.000505918   1.00306e-12     -0.00071406   -1.00333e-12"
      ]
     },
     "execution_count": 8,
     "metadata": {},
     "output_type": "execute_result"
    }
   ],
   "source": [
    "\"\"\" QP that solves grnd reaction forces\"\"\"\n",
    "function eq_point_qp(model, problem, s, foot_indices)  \n",
    "    num_feet = Int(length(foot_indices)/3)\n",
    "    \n",
    "    ## Matrices that map grnd reaction to body frame\n",
    "    rot = QB.H'QB.L(s[7:10])*QB.R(s[7:10])'QB.H #Rotation matrix\n",
    "    r̂1 = rot'*QB.hat((model.p1-s[1:3])) # rotate to body frame\n",
    "    r̂2 = rot'*QB.hat((model.p2-s[1:3]))\n",
    "    r̂3 = rot'*QB.hat((model.p3-s[1:3]))\n",
    "    r̂4 = rot'*QB.hat((model.p4-s[1:3]))\n",
    "    M = [I(3) I(3) I(3) I(3);\n",
    "         r̂1   r̂2    r̂3   r̂4]\n",
    "    M = M[:,foot_indices]\n",
    "    g = [0, 0, -9.81]\n",
    "    b = [model.m * g; zeros(3)] # Desired translation + rotational acceleration\n",
    "    \n",
    "    ## QP matrix and vector weightd \n",
    "    W = Diagonal(ones(6))\n",
    "    P = M' * W * M + 1e-5*I(length(foot_indices))\n",
    "    q = b' * W * M\n",
    "    \n",
    "    ## Frriction constraints\n",
    "    μ = 0.6\n",
    "    c = [1 0 1/sqrt(2)*μ; \n",
    "         0 1 -1/sqrt(2)*μ]\n",
    "    C= kron(I(num_feet), c)\n",
    "    lower = kron(ones(num_feet),[0, -Inf])\n",
    "    upper = kron(ones(num_feet),[Inf, 0])\n",
    "#     OSQP.setup!(problem, P=P, q=q', A=sparse(C), l=lower, u=upper, verbose=0)\n",
    "    OSQP.setup!(problem, P=P, q=q', verbose=0)\n",
    "    results = OSQP.solve!(problem)\n",
    "    return results.x, C, M\n",
    "end\n",
    "\n",
    "function ricatti(A, B, Q, R)\n",
    "    P = copy(Q)\n",
    "    P_prev = zero(P)\n",
    "    K = zeros(size(B'))\n",
    "    res = norm(P-P_prev)\n",
    "    while res > 1e-7\n",
    "        K = (R + B'*P_prev*B)\\ B'*P*A\n",
    "        P = Q + A'*P_prev*(A-B*K)\n",
    "        res = norm(P-P_prev)\n",
    "        P_prev = copy(P)\n",
    "    end\n",
    "    return P, K\n",
    "end\n",
    "\n",
    "\"\"\"Get unconstrained cost to go given eq point and grnd reaction forces \"\"\"\n",
    "function uctg(model, Q, R, s_des, f, foot_indices, h)\n",
    "    ## Linearize jacobian\n",
    "    A, B = QB.dynamics_jacobians_discrete(model, s_des, f, h)\n",
    "    xn = QB.dynamics_rk4(model, s_des, f, h)\n",
    "    G = blockdiag(sparse(1.0I(6)), \n",
    "              sparse(QB.quaternion_differential(s_des[7:10])), \n",
    "              sparse(1.0I(3)))\n",
    "    Gn = blockdiag(sparse(1.0I(6)), \n",
    "              sparse(QB.quaternion_differential(xn[7:10])), \n",
    "              sparse(1.0I(3)))\n",
    "    A = Gn' * A * G \n",
    "    B = Gn' * B \n",
    "    B = B[:,foot_indices]\n",
    "#     P_uctg = ControlSystems.dare(A,B,Q,R) # unconstrained ctg hessian\n",
    "    P_uctg, K = ricatti(A, B, Q, R)\n",
    "    return P_uctg, A, B, K\n",
    "end\n",
    "\n",
    "\"\"\" \"\"\"\n",
    "function qp_controller(model, problem, controller, s, joints, f_prev, foot_indices)\n",
    "    num_feet = Int(length(foot_indices)/3)\n",
    "    rot = QB.H'QB.L(s[7:10])*QB.R(s[7:10])'QB.H #Rotation matrix\n",
    "\n",
    "    ## error calculation\n",
    "    δs = zeros(12)\n",
    "    δs[1:6]   = s[1:6]   - controller.s_des[1:6]\n",
    "    δs[10:12] = s[11:13] - controller.s_des[11:13]\n",
    "    q_diff = QB.L(controller.s_des[7:10])' * s[7:10]\n",
    "    ϕ = q_diff[2:4] / q_diff[1]\n",
    "    δs[7:9] = ϕ \n",
    "    \n",
    "    μ = 0.6  # friction\n",
    "    β = 0.00   # smoothing factor\n",
    "    f_eq = controller.f_des\n",
    "    A = controller.A\n",
    "    B = controller.B\n",
    "    Q = controller.Q\n",
    "    R = controller.R\n",
    "    P_uctg = controller.P\n",
    "    \n",
    "    W = sparse(R + B' * P_uctg * B + β*I(num_feet*3))\n",
    "    q = (B' * P_uctg * A * δs)' - f_prev' * β*I(num_feet*3)\n",
    "    C = [1 0  1/sqrt(2)*μ 0 0 0;\n",
    "         0 1 -1/sqrt(2)*μ 0 0 0;\n",
    "         0 0 0            1 0  1/sqrt(2)*μ;\n",
    "         0 0 0            0 1 -1/sqrt(2)*μ;\n",
    "         0 0 1            0 0  0 ;\n",
    "         0 0 0            0 0  1]\n",
    "    lower = [-1/sqrt(2)*μ*f_eq[3]-f_eq[1], -Inf,  -1/sqrt(2)*μ*f_eq[12]-f_eq[10], -Inf, -f_eq[3], -f_eq[12]]\n",
    "    upper = [Inf,1/sqrt(2)*μ*f_eq[3]-f_eq[2], Inf, 1/sqrt(2)*μ*f_eq[12]-f_eq[11], 150-f_eq[3], 150-f_eq[12]]\n",
    "#     C = [\n",
    "#          0 0 1            0 0  0 ;\n",
    "#          0 0 0            0 0  1]\n",
    "#     lower = [ -f_eq[3], -f_eq[12]]\n",
    "#     upper = [ 150-f_eq[3], 150-f_eq[12]]\n",
    "#     OSQP.setup!(problem, P=W, q=q', A=sparse(C), l=lower, u=upper, verbose=0, eps_abs=1e-6, eps_rel=1e-6)\n",
    "    OSQP.setup!(problem, P=W, q=q', verbose=0)\n",
    "    results = OSQP.solve!(problem)\n",
    "    f = results.x     \n",
    "#     f = -K * δs\n",
    "    return f, δs\n",
    "end\n",
    "\n",
    "\"\"\"Convert 37 full state to a 13 state centroidal state\"\"\"\n",
    "function full2centroidal(x_full)\n",
    "    rot = QB.H'QB.L(x_full[1:4])*QB.R(x_full[1:4])'QB.H #Rotation matrix\n",
    "\n",
    "    x_centroid = zeros(13)\n",
    "    x_centroid[1:3] = x_full[5:7]\n",
    "    x_centroid[4:6] = rot * x_full[23:25]\n",
    "    x_centroid[7:10] = x_full[1:4]\n",
    "    x_centroid[11:13] = rot' * x_full[20:22]\n",
    "    return x_centroid\n",
    "end\n",
    "\n",
    "\n",
    "let\n",
    "    I_inertia = Matrix(Diagonal([0.05, 0.25, 0.3]))\n",
    "    m = 12.454 # mass \n",
    "    x = copy(x_eq)\n",
    "    x[5:6] .= 0\n",
    "    x[7 .+ (1:4)] .= 0\n",
    "    x[11 .+ (1:4)] .= 1.5\n",
    "    x[15 .+ (1:4)] .= -2.5\n",
    "    p = QB.fk_world(x)\n",
    "    model = QB.CentroidalModel(I_inertia, m, p[1:3], p[4:6], p[7:9], p[10:12])\n",
    "    num_feet = Int(length(foot_indices)/3)\n",
    "    \n",
    "    ## init qp solvers \n",
    "    problem1 = OSQP.Model()\n",
    "    problem2 = OSQP.Model()\n",
    "    \n",
    "    ## Find ground reaction forces and equivalent forces \n",
    "    s_des = zeros(13)\n",
    "    s_des[7:10] = [1.0, 0.0, 0.0, 0.0]\n",
    "    α = 1/3\n",
    "#     s_des[1:3].= (p[1:3] *α + p[10:12]*(1-α) + p[7:9]*α) # midway between foot position\n",
    "#     s_des[1:3] = p[1:3] *0.5 + p[10:12]*0.5\n",
    "    s_des[3] = 0.124\n",
    "\n",
    "    f_des, C, M = eq_point_qp(model, problem1, s_des, foot_indices)\n",
    "#     ## Caculate uctg and init controller\n",
    "    h = 0.001\n",
    "    Q = Matrix(Diagonal([10., 10., 10000., 1.0, 1.0, 10., 1600, 1800, 1500., 10., 5, 1.])) *1e-2\n",
    "    R = Matrix(Diagonal(kron(ones(num_feet), [0.5, 0.5, .5]))) * 1e-2 * 1e-2\n",
    "    f = zeros(12); f[foot_indices] = f_des\n",
    "    P_uctg, A, B, _ = uctg(model, Q, R, s_des, f, foot_indices, h) \n",
    "    controller = Controller(s_des, f, A, B, Q, R, P_uctg, h)\n",
    "    \n",
    "#     ## Calculate control\n",
    "    sn = copy(s_des)\n",
    "#     sn[2] += 0.001\n",
    "    sn[7:10] = QB.L(sn[7:10]) * (QB.ρ([0.1,0.,0.0]))\n",
    "    f, δs = qp_controller(model, problem2, controller, sn, x_eq[8:19], zeros(12), foot_indices)\n",
    "    u = zeros(12); u[3] = 1.0;\n",
    "    RobotDynamics.dynamics(model, s_des, u)\n",
    "    B\n",
    "    \n",
    "end"
   ]
  },
  {
   "cell_type": "code",
   "execution_count": 9,
   "id": "25530fd4",
   "metadata": {},
   "outputs": [],
   "source": [
    "### Setting up the controller \n",
    "I_inertia = Matrix(Diagonal([0.05, 0.25, 0.3]))\n",
    "# I_inertia = Matrix(Diagonal([0.025, 0.08, 0.12]))\n",
    "m = 12.54 # mass \n",
    "x = copy(x_eq)\n",
    "p = QB.fk_world(x)\n",
    "num_feet = Int(length(foot_indices)/3)\n",
    "model = QB.CentroidalModel(I_inertia, m, p[1:3], p[4:6], p[7:9], p[10:12])\n",
    "## init qp solvers \n",
    "problem1 = OSQP.Model()\n",
    "problem2 = OSQP.Model()\n",
    "\n",
    "## Find ground reaction forces and equivalent forces \n",
    "s_des = zeros(13)\n",
    "s_des[7:10] = [1.0, 0.0, 0.0, 0.0]\n",
    "α = 1/3\n",
    "# s_des[1:3].= (p[1:3] *α + p[10:12]*(1-α) + p[7:9]*α) # midway between foot position\n",
    "# s_des[1:3] = p[1:3] *0.5 + p[10:12]*0.5; \n",
    "s_des[1:3] = x_eq[5:7]\n",
    "s_des[3] = x_eq[7] \n",
    "s_des[7:10] = QB.L(s_des[7:10]) * QB.ρ([0.0,0.0,0.0])\n",
    "f_des, C, M = eq_point_qp(model, problem1, s_des, foot_indices)\n",
    "\n",
    "## Caculate uctg and init controller\n",
    "h = 0.001\n",
    "Q = Matrix(Diagonal([20, 20, 10000, 1, 1, 1, 1100, 1600, 500., 10., 50, 1.])) * 1e-2\n",
    "R = Matrix(Diagonal(kron(ones(num_feet), [1.25, 1.25, .5]))) * 1e-4\n",
    "f = zeros(12); f[foot_indices] = f_des\n",
    "P_uctg, A, B, K = uctg(model, Q, R, s_des, f, foot_indices, h)\n",
    "controller = Controller(s_des, f, A, B, Q, R, P_uctg, h);"
   ]
  },
  {
   "cell_type": "code",
   "execution_count": 17,
   "id": "4bf099fa",
   "metadata": {},
   "outputs": [],
   "source": [
    "###### Simulation Loop ######\n",
    "n = length(x_eq)\n",
    "m = 12\n",
    "h = 0.001\n",
    "tf = 6.0\n",
    "times = 0:h:tf\n",
    "ϕ_cons = QB.fk_world(x_eq)[foot_indices] # feet constraint \n",
    "ind_fixed = [2,6,10, 3, 7, 11]\n",
    "# Loop variables \n",
    "xs = zeros(length(times), n)\n",
    "ss = zeros(length(times), 13)\n",
    "us = zeros(length(times), m)\n",
    "fs = zeros(length(times), 12)\n",
    "λs = zeros(length(times), num_feet*3)\n",
    "δss = zeros(length(times), 12) \n",
    "xs[1,:] = copy(x_eq)\n",
    "fs[1,:] = zeros(12)\n",
    "us[1,:] = -QB.dfk_world(x_eq)[:,8:19]' * controller.f_des\n",
    "xs[1,23] += -0.0\n",
    "xs[1,24] += -0.0\n",
    "\n",
    "ss[1,:] = full2centroidal(xs[1,:])\n",
    "resting_joints = x_eq[8:19] #[ones(4)*0.0; ones(4)*1.2; -ones(4)*2.2]\n",
    "s_des[7:10] = QB.L([1,0,0,0]) * QB.ρ([0.,0,0])\n",
    "com_offset = [-0.01, 0.01, 0.0]*0 # breaks after 0.01 shifts in any direction\n",
    "for i in 1:length(times) - 1\n",
    "    ## get sensor \n",
    "    encs = xs[i, 8:19]\n",
    "    joint_vels = xs[i, 26:end]\n",
    "    pos = xs[i,5:7]\n",
    "    v = xs[i,23:25]\n",
    "    ω = xs[i,20:22]\n",
    "    quat_meas = UnitQuaternion(xs[i,1:4]...)\n",
    "    quat_eq = UnitQuaternion(x_eq[1:4]...)\n",
    "    \n",
    "    ## Feedback control \n",
    "    fk_cons = QB.fk_world(x_eq)[foot_indices] # feet constraint \n",
    "    sn = full2centroidal(xs[i,:])\n",
    "    sn[1:3] += com_offset\n",
    "#     sn[1:3] += (quat_meas * com_offset)\n",
    "    u_joint = joint_pd_control(encs, x_eq[8:19], joint_vels, 100, 1)\n",
    "    f, δs = qp_controller(model, problem2, controller, sn, encs, fs[i,:], foot_indices)\n",
    "\n",
    "#     if i > 2000\n",
    "#         s_des[7:10] = QB.L([1,0,0,0]) * QB.ρ([0., 0, deg2rad(10)])\n",
    "#         s_des[7:10] = QB.L([1,0,0,0]) * QB.ρ([0., deg2rad(10), 0])\n",
    "#         s_des[7:10] = QB.L([1,0,0,0]) * QB.ρ([deg2rad(10), 0, 0])\n",
    "        \n",
    "#     end\n",
    "    rot = QB.H'QB.L(sn[7:10])*QB.R(sn[7:10])'QB.H #Rotation matrix\n",
    "    rot = kron(I(4), rot')\n",
    "    \n",
    "    fs[i+1,foot_indices] .= f\n",
    "    us[i+1,:] = -QB.dfk(encs)[:,:]' * rot* (fs[i,:] + controller.f_des) * 0\n",
    "    us[i+1,ind_fixed] = u_joint[ind_fixed] * 0\n",
    "    δss[i,:] = δs\n",
    "\n",
    "    \n",
    "    xs[i+1, :], λs[i+1,:] = semi_implicit_euler(A1, xs[i,:], us[i+1,:], ϕ_cons, foot_indices, h)\n",
    "    ss[i+1,:] = full2centroidal(xs[i+1,:])\n",
    "\n",
    "end"
   ]
  },
  {
   "cell_type": "code",
   "execution_count": 11,
   "id": "17a5bf7c",
   "metadata": {},
   "outputs": [
    {
     "data": {
      "image/png": "[encoded data removed]",
      "text/plain": [
       "Figure(PyObject <Figure size 640x480 with 2 Axes>)"
      ]
     },
     "metadata": {},
     "output_type": "display_data"
    },
    {
     "data": {
      "text/plain": [
       "PyObject <matplotlib.legend.Legend object at 0x7f5df46a59a0>"
      ]
     },
     "execution_count": 11,
     "metadata": {},
     "output_type": "execute_result"
    }
   ],
   "source": [
    "t_ind = length(times) - 1\n",
    "subplot(2,1,1)\n",
    "plot(times[1:t_ind], δss[1:t_ind,7],label=\"ϕ₁\")\n",
    "plot(times[1:t_ind], δss[1:t_ind,8],label=\"ϕ₂\")\n",
    "plot(times[1:t_ind], δss[1:t_ind,9],label=\"ϕ₃\")\n",
    "ylabel(\"radians\")\n",
    "legend()\n",
    "\n",
    "subplot(2,1,2)\n",
    "plot(times[1:t_ind], δss[1:t_ind,1],label=\"δp₁\")\n",
    "plot(times[1:t_ind], δss[1:t_ind,2],label=\"δp₂\")\n",
    "plot(times[1:t_ind], δss[1:t_ind,3],label=\"δp₃\")\n",
    "xlabel(\"time (s)\")\n",
    "ylabel(\"m\")\n",
    "legend()"
   ]
  },
  {
   "cell_type": "code",
   "execution_count": 12,
   "id": "135220ac",
   "metadata": {},
   "outputs": [
    {
     "data": {
      "image/png": "[encoded data removed]",
      "text/plain": [
       "Figure(PyObject <Figure size 640x480 with 1 Axes>)"
      ]
     },
     "metadata": {},
     "output_type": "display_data"
    },
    {
     "data": {
      "text/plain": [
       "3-element Vector{PyCall.PyObject}:\n",
       " PyObject <matplotlib.lines.Line2D object at 0x7f5df4725040>\n",
       " PyObject <matplotlib.lines.Line2D object at 0x7f5df4725160>\n",
       " PyObject <matplotlib.lines.Line2D object at 0x7f5df4725220>"
      ]
     },
     "execution_count": 12,
     "metadata": {},
     "output_type": "execute_result"
    }
   ],
   "source": [
    "t_ind = 900\n",
    "plot(-λs[2:t_ind, 1:3]) "
   ]
  },
  {
   "cell_type": "code",
   "execution_count": 128,
   "id": "9426a43a",
   "metadata": {},
   "outputs": [
    {
     "data": {
      "text/plain": [
       "3×1 Matrix{Float64}:\n",
       "  0.01399478749339804\n",
       " -0.010099214925274231\n",
       " -0.3762523806253739"
      ]
     },
     "execution_count": 128,
     "metadata": {},
     "output_type": "execute_result"
    }
   ],
   "source": [
    "let\n",
    "    n = 200\n",
    "    s_i = 4000\n",
    "    H = zeros(3*200, 3)\n",
    "    b = zeros(3*200, 1)\n",
    "    for i in 1:n\n",
    "        f_sum = -(λs[i+s_i,1:3] + λs[i+s_i,4:6])\n",
    "        H[((i-1)*3+1):i*3,:] = QB.hat(f_sum)\n",
    "        p=QB.fk_world(xs[i+s_i,:])[foot_indices]\n",
    "        b[((i-1)*3+1):i*3]= -(QB.hat(p[1:3])*λs[i+s_i,1:3] + QB.hat(p[4:6])*λs[i+s_i,4:6])\n",
    "    end\n",
    "    c = pinv(H) * b\n",
    "end"
   ]
  },
  {
   "cell_type": "code",
   "execution_count": 13,
   "id": "69b18c2e",
   "metadata": {
    "scrolled": false
   },
   "outputs": [
    {
     "data": {
      "image/png": "[encoded data removed]",
      "text/plain": [
       "Figure(PyObject <Figure size 640x480 with 1 Axes>)"
      ]
     },
     "metadata": {},
     "output_type": "display_data"
    },
    {
     "data": {
      "text/plain": [
       "PyObject Text(0.5, 24.0, 'Time (s)')"
      ]
     },
     "execution_count": 13,
     "metadata": {},
     "output_type": "execute_result"
    }
   ],
   "source": [
    "let\n",
    "    err = copy(δss[:,8])\n",
    "    err[2002:end] .+= deg2rad(10)\n",
    "    desired = [zeros(2000);ones(4001)*10]\n",
    "    plot(times[1:end-1], rad2deg.(err[1:end-1]), label=\"simulation\")\n",
    "    plot(times, desired, \"--\", label=\"target\")\n",
    "    grid()\n",
    "    legend()\n",
    "    ylabel(\"Pitch (°)\")\n",
    "    xlabel(\"Time (s)\")\n",
    "end"
   ]
  },
  {
   "cell_type": "code",
   "execution_count": 14,
   "id": "86c14d19",
   "metadata": {},
   "outputs": [
    {
     "name": "stderr",
     "output_type": "stream",
     "text": [
      "┌ Info: MeshCat server started. You can open the visualizer by visiting the following URL in your browser:\n",
      "│ http://127.0.0.1:8701\n",
      "└ @ MeshCat /home/chiyen/.julia/packages/MeshCat/C1FSW/src/visualizer.jl:73\n"
     ]
    }
   ],
   "source": [
    "vis = Visualizer() \n",
    "cur_path = pwd()\n",
    "cd(joinpath(@__DIR__,\"..\",\"src\", \"a1\", \"urdf\"))\n",
    "mvis = MechanismVisualizer(A1mech, URDFVisuals(urdfpath), vis)\n",
    "cd(cur_path)"
   ]
  },
  {
   "cell_type": "code",
   "execution_count": 18,
   "id": "e567dab9",
   "metadata": {},
   "outputs": [],
   "source": [
    "q_anim = [xs[i,1:19] for i in 1:length(times)-1]\n",
    "animation = Animation(mvis, times[1:50:end-1], q_anim[1:50:end])\n",
    "setanimation!(mvis, animation);"
   ]
  },
  {
   "cell_type": "code",
   "execution_count": 15,
   "id": "37c4b0ba",
   "metadata": {},
   "outputs": [
    {
     "data": {
      "text/html": [
       "    <div style=\"height: 500px; width: 100%; overflow-x: auto; overflow-y: hidden; resize: both\">\n",
       "    <iframe src=\"http://127.0.0.1:8701\" style=\"width: 100%; height: 100%; border: none\"></iframe>\n",
       "    </div>\n"
      ],
      "text/plain": [
       "MeshCat.DisplayedVisualizer(MeshCat.CoreVisualizer(MeshCat.SceneTrees.SceneNode(nothing, nothing, Dict{String, Vector{UInt8}}(), nothing, Dict{String, MeshCat.SceneTrees.SceneNode}(\"meshcat\" => MeshCat.SceneTrees.SceneNode(nothing, nothing, Dict{String, Vector{UInt8}}(), nothing, Dict{String, MeshCat.SceneTrees.SceneNode}(\"world\" => MeshCat.SceneTrees.SceneNode(nothing, nothing, Dict{String, Vector{UInt8}}(), nothing, Dict{String, MeshCat.SceneTrees.SceneNode}(\"base\" => MeshCat.SceneTrees.SceneNode(nothing, UInt8[0x83, 0xa6, 0x6d, 0x61, 0x74, 0x72, 0x69, 0x78, 0xc7, 0x40  …  0x77, 0x6f, 0x72, 0x6c, 0x64, 0x2f, 0x62, 0x61, 0x73, 0x65], Dict{String, Vector{UInt8}}(), nothing, Dict{String, MeshCat.SceneTrees.SceneNode}(\"trunk\" => MeshCat.SceneTrees.SceneNode(nothing, UInt8[0x83, 0xa6, 0x6d, 0x61, 0x74, 0x72, 0x69, 0x78, 0xc7, 0x40  …  0x62, 0x61, 0x73, 0x65, 0x2f, 0x74, 0x72, 0x75, 0x6e, 0x6b], Dict{String, Vector{UInt8}}(), nothing, Dict{String, MeshCat.SceneTrees.SceneNode}(\"after_floating_base\" => MeshCat.SceneTrees.SceneNode(nothing, UInt8[0x83, 0xa6, 0x6d, 0x61, 0x74, 0x72, 0x69, 0x78, 0xc7, 0x40  …  0x61, 0x74, 0x69, 0x6e, 0x67, 0x5f, 0x62, 0x61, 0x73, 0x65], Dict{String, Vector{UInt8}}(), nothing, Dict{String, MeshCat.SceneTrees.SceneNode}(\"geometry_2\" => MeshCat.SceneTrees.SceneNode(UInt8[0x83, 0xa6, 0x6f, 0x62, 0x6a, 0x65, 0x63, 0x74, 0x84, 0xaa  …  0x67, 0x65, 0x6f, 0x6d, 0x65, 0x74, 0x72, 0x79, 0x5f, 0x32], UInt8[0x83, 0xa6, 0x6d, 0x61, 0x74, 0x72, 0x69, 0x78, 0xc7, 0x40  …  0x67, 0x65, 0x6f, 0x6d, 0x65, 0x74, 0x72, 0x79, 0x5f, 0x32], Dict{String, Vector{UInt8}}(), nothing, Dict{String, MeshCat.SceneTrees.SceneNode}()))), \"RL_hip\" => MeshCat.SceneTrees.SceneNode(nothing, UInt8[0x83, 0xa6, 0x6d, 0x61, 0x74, 0x72, 0x69, 0x78, 0xc7, 0x40  …  0x75, 0x6e, 0x6b, 0x2f, 0x52, 0x4c, 0x5f, 0x68, 0x69, 0x70], Dict{String, Vector{UInt8}}(), nothing, Dict{String, MeshCat.SceneTrees.SceneNode}(\"RL_thigh\" => MeshCat.SceneTrees.SceneNode(nothing, UInt8[0x83, 0xa6, 0x6d, 0x61, 0x74, 0x72, 0x69, 0x78, 0xc7, 0x40  …  0x70, 0x2f, 0x52, 0x4c, 0x5f, 0x74, 0x68, 0x69, 0x67, 0x68], Dict{String, Vector{UInt8}}(), nothing, Dict{String, MeshCat.SceneTrees.SceneNode}(\"after_RL_thigh_joint\" => MeshCat.SceneTrees.SceneNode(nothing, UInt8[0x83, 0xa6, 0x6d, 0x61, 0x74, 0x72, 0x69, 0x78, 0xc7, 0x40  …  0x68, 0x69, 0x67, 0x68, 0x5f, 0x6a, 0x6f, 0x69, 0x6e, 0x74], Dict{String, Vector{UInt8}}(), nothing, Dict{String, MeshCat.SceneTrees.SceneNode}(\"geometry_17\" => MeshCat.SceneTrees.SceneNode(UInt8[0x83, 0xa6, 0x6f, 0x62, 0x6a, 0x65, 0x63, 0x74, 0x84, 0xaa  …  0x65, 0x6f, 0x6d, 0x65, 0x74, 0x72, 0x79, 0x5f, 0x31, 0x37], UInt8[0x83, 0xa6, 0x6d, 0x61, 0x74, 0x72, 0x69, 0x78, 0xc7, 0x40  …  0x65, 0x6f, 0x6d, 0x65, 0x74, 0x72, 0x79, 0x5f, 0x31, 0x37], Dict{String, Vector{UInt8}}(), nothing, Dict{String, MeshCat.SceneTrees.SceneNode}()))), \"RL_calf\" => MeshCat.SceneTrees.SceneNode(nothing, UInt8[0x83, 0xa6, 0x6d, 0x61, 0x74, 0x72, 0x69, 0x78, 0xc7, 0x40  …  0x67, 0x68, 0x2f, 0x52, 0x4c, 0x5f, 0x63, 0x61, 0x6c, 0x66], Dict{String, Vector{UInt8}}(), nothing, Dict{String, MeshCat.SceneTrees.SceneNode}(\"RL_foot\" => MeshCat.SceneTrees.SceneNode(nothing, UInt8[0x83, 0xa6, 0x6d, 0x61, 0x74, 0x72, 0x69, 0x78, 0xc7, 0x40  …  0x6c, 0x66, 0x2f, 0x52, 0x4c, 0x5f, 0x66, 0x6f, 0x6f, 0x74], Dict{String, Vector{UInt8}}(), nothing, Dict{String, MeshCat.SceneTrees.SceneNode}(\"after_RL_foot_fixed\" => MeshCat.SceneTrees.SceneNode(nothing, UInt8[0x83, 0xa6, 0x6d, 0x61, 0x74, 0x72, 0x69, 0x78, 0xc7, 0x40  …  0x66, 0x6f, 0x6f, 0x74, 0x5f, 0x66, 0x69, 0x78, 0x65, 0x64], Dict{String, Vector{UInt8}}(), nothing, Dict{String, MeshCat.SceneTrees.SceneNode}(\"geometry_19\" => MeshCat.SceneTrees.SceneNode(UInt8[0x83, 0xa6, 0x6f, 0x62, 0x6a, 0x65, 0x63, 0x74, 0x84, 0xaa  …  0x65, 0x6f, 0x6d, 0x65, 0x74, 0x72, 0x79, 0x5f, 0x31, 0x39], UInt8[0x83, 0xa6, 0x6d, 0x61, 0x74, 0x72, 0x69, 0x78, 0xc7, 0x40  …  0x65, 0x6f, 0x6d, 0x65, 0x74, 0x72, 0x79, 0x5f, 0x31, 0x39], Dict{String, Vector{UInt8}}(), nothing, Dict{String, MeshCat.SceneTrees.SceneNode}()))))), \"after_RL_calf_joint\" => MeshCat.SceneTrees.SceneNode(nothing, UInt8[0x83, 0xa6, 0x6d, 0x61, 0x74, 0x72, 0x69, 0x78, 0xc7, 0x40  …  0x63, 0x61, 0x6c, 0x66, 0x5f, 0x6a, 0x6f, 0x69, 0x6e, 0x74], Dict{String, Vector{UInt8}}(), nothing, Dict{String, MeshCat.SceneTrees.SceneNode}(\"geometry_18\" => MeshCat.SceneTrees.SceneNode(UInt8[0x83, 0xa6, 0x6f, 0x62, 0x6a, 0x65, 0x63, 0x74, 0x84, 0xaa  …  0x65, 0x6f, 0x6d, 0x65, 0x74, 0x72, 0x79, 0x5f, 0x31, 0x38], UInt8[0x83, 0xa6, 0x6d, 0x61, 0x74, 0x72, 0x69, 0x78, 0xc7, 0x40  …  0x65, 0x6f, 0x6d, 0x65, 0x74, 0x72, 0x79, 0x5f, 0x31, 0x38], Dict{String, Vector{UInt8}}(), nothing, Dict{String, MeshCat.SceneTrees.SceneNode}()))))))), \"after_RL_hip_joint\" => MeshCat.SceneTrees.SceneNode(nothing, UInt8[0x83, 0xa6, 0x6d, 0x61, 0x74, 0x72, 0x69, 0x78, 0xc7, 0x40  …  0x5f, 0x68, 0x69, 0x70, 0x5f, 0x6a, 0x6f, 0x69, 0x6e, 0x74], Dict{String, Vector{UInt8}}(), nothing, Dict{String, MeshCat.SceneTrees.SceneNode}(\"geometry_16\" => MeshCat.SceneTrees.SceneNode(UInt8[0x83, 0xa6, 0x6f, 0x62, 0x6a, 0x65, 0x63, 0x74, 0x84, 0xaa  …  0x65, 0x6f, 0x6d, 0x65, 0x74, 0x72, 0x79, 0x5f, 0x31, 0x36], UInt8[0x83, 0xa6, 0x6d, 0x61, 0x74, 0x72, 0x69, 0x78, 0xc7, 0x40  …  0x65, 0x6f, 0x6d, 0x65, 0x74, 0x72, 0x79, 0x5f, 0x31, 0x36], Dict{String, Vector{UInt8}}(), nothing, Dict{String, MeshCat.SceneTrees.SceneNode}()))))), \"FR_hip\" => MeshCat.SceneTrees.SceneNode(nothing, UInt8[0x83, 0xa6, 0x6d, 0x61, 0x74, 0x72, 0x69, 0x78, 0xc7, 0x40  …  0x75, 0x6e, 0x6b, 0x2f, 0x46, 0x52, 0x5f, 0x68, 0x69, 0x70], Dict{String, Vector{UInt8}}(), nothing, Dict{String, MeshCat.SceneTrees.SceneNode}(\"after_FR_hip_joint\" => MeshCat.SceneTrees.SceneNode(nothing, UInt8[0x83, 0xa6, 0x6d, 0x61, 0x74, 0x72, 0x69, 0x78, 0xc7, 0x40  …  0x5f, 0x68, 0x69, 0x70, 0x5f, 0x6a, 0x6f, 0x69, 0x6e, 0x74], Dict{String, Vector{UInt8}}(), nothing, Dict{String, MeshCat.SceneTrees.SceneNode}(\"geometry_4\" => MeshCat.SceneTrees.SceneNode(UInt8[0x83, 0xa6, 0x6f, 0x62, 0x6a, 0x65, 0x63, 0x74, 0x84, 0xaa  …  0x67, 0x65, 0x6f, 0x6d, 0x65, 0x74, 0x72, 0x79, 0x5f, 0x34], UInt8[0x83, 0xa6, 0x6d, 0x61, 0x74, 0x72, 0x69, 0x78, 0xc7, 0x40  …  0x67, 0x65, 0x6f, 0x6d, 0x65, 0x74, 0x72, 0x79, 0x5f, 0x34], Dict{String, Vector{UInt8}}(), nothing, Dict{String, MeshCat.SceneTrees.SceneNode}()))), \"FR_thigh\" => MeshCat.SceneTrees.SceneNode(nothing, UInt8[0x83, 0xa6, 0x6d, 0x61, 0x74, 0x72, 0x69, 0x78, 0xc7, 0x40  …  0x70, 0x2f, 0x46, 0x52, 0x5f, 0x74, 0x68, 0x69, 0x67, 0x68], Dict{String, Vector{UInt8}}(), nothing, Dict{String, MeshCat.SceneTrees.SceneNode}(\"FR_calf\" => MeshCat.SceneTrees.SceneNode(nothing, UInt8[0x83, 0xa6, 0x6d, 0x61, 0x74, 0x72, 0x69, 0x78, 0xc7, 0x40  …  0x67, 0x68, 0x2f, 0x46, 0x52, 0x5f, 0x63, 0x61, 0x6c, 0x66], Dict{String, Vector{UInt8}}(), nothing, Dict{String, MeshCat.SceneTrees.SceneNode}(\"FR_foot\" => MeshCat.SceneTrees.SceneNode(nothing, UInt8[0x83, 0xa6, 0x6d, 0x61, 0x74, 0x72, 0x69, 0x78, 0xc7, 0x40  …  0x6c, 0x66, 0x2f, 0x46, 0x52, 0x5f, 0x66, 0x6f, 0x6f, 0x74], Dict{String, Vector{UInt8}}(), nothing, Dict{String, MeshCat.SceneTrees.SceneNode}(\"after_FR_foot_fixed\" => MeshCat.SceneTrees.SceneNode(nothing, UInt8[0x83, 0xa6, 0x6d, 0x61, 0x74, 0x72, 0x69, 0x78, 0xc7, 0x40  …  0x66, 0x6f, 0x6f, 0x74, 0x5f, 0x66, 0x69, 0x78, 0x65, 0x64], Dict{String, Vector{UInt8}}(), nothing, Dict{String, MeshCat.SceneTrees.SceneNode}(\"geometry_7\" => MeshCat.SceneTrees.SceneNode(UInt8[0x83, 0xa6, 0x6f, 0x62, 0x6a, 0x65, 0x63, 0x74, 0x84, 0xaa  …  0x67, 0x65, 0x6f, 0x6d, 0x65, 0x74, 0x72, 0x79, 0x5f, 0x37], UInt8[0x83, 0xa6, 0x6d, 0x61, 0x74, 0x72, 0x69, 0x78, 0xc7, 0x40  …  0x67, 0x65, 0x6f, 0x6d, 0x65, 0x74, 0x72, 0x79, 0x5f, 0x37], Dict{String, Vector{UInt8}}(), nothing, Dict{String, MeshCat.SceneTrees.SceneNode}()))))), \"after_FR_calf_joint\" => MeshCat.SceneTrees.SceneNode(nothing, UInt8[0x83, 0xa6, 0x6d, 0x61, 0x74, 0x72, 0x69, 0x78, 0xc7, 0x40  …  0x63, 0x61, 0x6c, 0x66, 0x5f, 0x6a, 0x6f, 0x69, 0x6e, 0x74], Dict{String, Vector{UInt8}}(), nothing, Dict{String, MeshCat.SceneTrees.SceneNode}(\"geometry_6\" => MeshCat.SceneTrees.SceneNode(UInt8[0x83, 0xa6, 0x6f, 0x62, 0x6a, 0x65, 0x63, 0x74, 0x84, 0xaa  …  0x67, 0x65, 0x6f, 0x6d, 0x65, 0x74, 0x72, 0x79, 0x5f, 0x36], UInt8[0x83, 0xa6, 0x6d, 0x61, 0x74, 0x72, 0x69, 0x78, 0xc7, 0x40  …  0x67, 0x65, 0x6f, 0x6d, 0x65, 0x74, 0x72, 0x79, 0x5f, 0x36], Dict{String, Vector{UInt8}}(), nothing, Dict{String, MeshCat.SceneTrees.SceneNode}()))))), \"after_FR_thigh_joint\" => MeshCat.SceneTrees.SceneNode(nothing, UInt8[0x83, 0xa6, 0x6d, 0x61, 0x74, 0x72, 0x69, 0x78, 0xc7, 0x40  …  0x68, 0x69, 0x67, 0x68, 0x5f, 0x6a, 0x6f, 0x69, 0x6e, 0x74], Dict{String, Vector{UInt8}}(), nothing, Dict{String, MeshCat.SceneTrees.SceneNode}(\"geometry_5\" => MeshCat.SceneTrees.SceneNode(UInt8[0x83, 0xa6, 0x6f, 0x62, 0x6a, 0x65, 0x63, 0x74, 0x84, 0xaa  …  0x67, 0x65, 0x6f, 0x6d, 0x65, 0x74, 0x72, 0x79, 0x5f, 0x35], UInt8[0x83, 0xa6, 0x6d, 0x61, 0x74, 0x72, 0x69, 0x78, 0xc7, 0x40  …  0x67, 0x65, 0x6f, 0x6d, 0x65, 0x74, 0x72, 0x79, 0x5f, 0x35], Dict{String, Vector{UInt8}}(), nothing, Dict{String, MeshCat.SceneTrees.SceneNode}()))))))), \"RR_hip\" => MeshCat.SceneTrees.SceneNode(nothing, UInt8[0x83, 0xa6, 0x6d, 0x61, 0x74, 0x72, 0x69, 0x78, 0xc7, 0x40  …  0x75, 0x6e, 0x6b, 0x2f, 0x52, 0x52, 0x5f, 0x68, 0x69, 0x70], Dict{String, Vector{UInt8}}(), nothing, Dict{String, MeshCat.SceneTrees.SceneNode}(\"RR_thigh\" => MeshCat.SceneTrees.SceneNode(nothing, UInt8[0x83, 0xa6, 0x6d, 0x61, 0x74, 0x72, 0x69, 0x78, 0xc7, 0x40  …  0x70, 0x2f, 0x52, 0x52, 0x5f, 0x74, 0x68, 0x69, 0x67, 0x68], Dict{String, Vector{UInt8}}(), nothing, Dict{String, MeshCat.SceneTrees.SceneNode}(\"after_RR_thigh_joint\" => MeshCat.SceneTrees.SceneNode(nothing, UInt8[0x83, 0xa6, 0x6d, 0x61, 0x74, 0x72, 0x69, 0x78, 0xc7, 0x40  …  0x68, 0x69, 0x67, 0x68, 0x5f, 0x6a, 0x6f, 0x69, 0x6e, 0x74], Dict{String, Vector{UInt8}}(), nothing, Dict{String, MeshCat.SceneTrees.SceneNode}(\"geometry_13\" => MeshCat.SceneTrees.SceneNode(UInt8[0x83, 0xa6, 0x6f, 0x62, 0x6a, 0x65, 0x63, 0x74, 0x84, 0xaa  …  0x65, 0x6f, 0x6d, 0x65, 0x74, 0x72, 0x79, 0x5f, 0x31, 0x33], UInt8[0x83, 0xa6, 0x6d, 0x61, 0x74, 0x72, 0x69, 0x78, 0xc7, 0x40  …  0x65, 0x6f, 0x6d, 0x65, 0x74, 0x72, 0x79, 0x5f, 0x31, 0x33], Dict{String, Vector{UInt8}}(), nothing, Dict{String, MeshCat.SceneTrees.SceneNode}()))), \"RR_calf\" => MeshCat.SceneTrees.SceneNode(nothing, UInt8[0x83, 0xa6, 0x6d, 0x61, 0x74, 0x72, 0x69, 0x78, 0xc7, 0x40  …  0x67, 0x68, 0x2f, 0x52, 0x52, 0x5f, 0x63, 0x61, 0x6c, 0x66], Dict{String, Vector{UInt8}}(), nothing, Dict{String, MeshCat.SceneTrees.SceneNode}(\"after_RR_calf_joint\" => MeshCat.SceneTrees.SceneNode(nothing, UInt8[0x83, 0xa6, 0x6d, 0x61, 0x74, 0x72, 0x69, 0x78, 0xc7, 0x40  …  0x63, 0x61, 0x6c, 0x66, 0x5f, 0x6a, 0x6f, 0x69, 0x6e, 0x74], Dict{String, Vector{UInt8}}(), nothing, Dict{String, MeshCat.SceneTrees.SceneNode}(\"geometry_14\" => MeshCat.SceneTrees.SceneNode(UInt8[0x83, 0xa6, 0x6f, 0x62, 0x6a, 0x65, 0x63, 0x74, 0x84, 0xaa  …  0x65, 0x6f, 0x6d, 0x65, 0x74, 0x72, 0x79, 0x5f, 0x31, 0x34], UInt8[0x83, 0xa6, 0x6d, 0x61, 0x74, 0x72, 0x69, 0x78, 0xc7, 0x40  …  0x65, 0x6f, 0x6d, 0x65, 0x74, 0x72, 0x79, 0x5f, 0x31, 0x34], Dict{String, Vector{UInt8}}(), nothing, Dict{String, MeshCat.SceneTrees.SceneNode}()))), \"RR_foot\" => MeshCat.SceneTrees.SceneNode(nothing, UInt8[0x83, 0xa6, 0x6d, 0x61, 0x74, 0x72, 0x69, 0x78, 0xc7, 0x40  …  0x6c, 0x66, 0x2f, 0x52, 0x52, 0x5f, 0x66, 0x6f, 0x6f, 0x74], Dict{String, Vector{UInt8}}(), nothing, Dict{String, MeshCat.SceneTrees.SceneNode}(\"after_RR_foot_fixed\" => MeshCat.SceneTrees.SceneNode(nothing, UInt8[0x83, 0xa6, 0x6d, 0x61, 0x74, 0x72, 0x69, 0x78, 0xc7, 0x40  …  0x66, 0x6f, 0x6f, 0x74, 0x5f, 0x66, 0x69, 0x78, 0x65, 0x64], Dict{String, Vector{UInt8}}(), nothing, Dict{String, MeshCat.SceneTrees.SceneNode}(\"geometry_15\" => MeshCat.SceneTrees.SceneNode(UInt8[0x83, 0xa6, 0x6f, 0x62, 0x6a, 0x65, 0x63, 0x74, 0x84, 0xaa  …  0x65, 0x6f, 0x6d, 0x65, 0x74, 0x72, 0x79, 0x5f, 0x31, 0x35], UInt8[0x83, 0xa6, 0x6d, 0x61, 0x74, 0x72, 0x69, 0x78, 0xc7, 0x40  …  0x65, 0x6f, 0x6d, 0x65, 0x74, 0x72, 0x79, 0x5f, 0x31, 0x35], Dict{String, Vector{UInt8}}(), nothing, Dict{String, MeshCat.SceneTrees.SceneNode}()))))))))), \"after_RR_hip_joint\" => MeshCat.SceneTrees.SceneNode(nothing, UInt8[0x83, 0xa6, 0x6d, 0x61, 0x74, 0x72, 0x69, 0x78, 0xc7, 0x40  …  0x5f, 0x68, 0x69, 0x70, 0x5f, 0x6a, 0x6f, 0x69, 0x6e, 0x74], Dict{String, Vector{UInt8}}(), nothing, Dict{String, MeshCat.SceneTrees.SceneNode}(\"geometry_12\" => MeshCat.SceneTrees.SceneNode(UInt8[0x83, 0xa6, 0x6f, 0x62, 0x6a, 0x65, 0x63, 0x74, 0x84, 0xaa  …  0x65, 0x6f, 0x6d, 0x65, 0x74, 0x72, 0x79, 0x5f, 0x31, 0x32], UInt8[0x83, 0xa6, 0x6d, 0x61, 0x74, 0x72, 0x69, 0x78, 0xc7, 0x40  …  0x65, 0x6f, 0x6d, 0x65, 0x74, 0x72, 0x79, 0x5f, 0x31, 0x32], Dict{String, Vector{UInt8}}(), nothing, Dict{String, MeshCat.SceneTrees.SceneNode}()))))), \"FL_hip\" => MeshCat.SceneTrees.SceneNode(nothing, UInt8[0x83, 0xa6, 0x6d, 0x61, 0x74, 0x72, 0x69, 0x78, 0xc7, 0x40  …  0x75, 0x6e, 0x6b, 0x2f, 0x46, 0x4c, 0x5f, 0x68, 0x69, 0x70], Dict{String, Vector{UInt8}}(), nothing, Dict{String, MeshCat.SceneTrees.SceneNode}(\"after_FL_hip_joint\" => MeshCat.SceneTrees.SceneNode(nothing, UInt8[0x83, 0xa6, 0x6d, 0x61, 0x74, 0x72, 0x69, 0x78, 0xc7, 0x40  …  0x5f, 0x68, 0x69, 0x70, 0x5f, 0x6a, 0x6f, 0x69, 0x6e, 0x74], Dict{String, Vector{UInt8}}(), nothing, Dict{String, MeshCat.SceneTrees.SceneNode}(\"geometry_8\" => MeshCat.SceneTrees.SceneNode(UInt8[0x83, 0xa6, 0x6f, 0x62, 0x6a, 0x65, 0x63, 0x74, 0x84, 0xaa  …  0x67, 0x65, 0x6f, 0x6d, 0x65, 0x74, 0x72, 0x79, 0x5f, 0x38], UInt8[0x83, 0xa6, 0x6d, 0x61, 0x74, 0x72, 0x69, 0x78, 0xc7, 0x40  …  0x67, 0x65, 0x6f, 0x6d, 0x65, 0x74, 0x72, 0x79, 0x5f, 0x38], Dict{String, Vector{UInt8}}(), nothing, Dict{String, MeshCat.SceneTrees.SceneNode}()))), \"FL_thigh\" => MeshCat.SceneTrees.SceneNode(nothing, UInt8[0x83, 0xa6, 0x6d, 0x61, 0x74, 0x72, 0x69, 0x78, 0xc7, 0x40  …  0x70, 0x2f, 0x46, 0x4c, 0x5f, 0x74, 0x68, 0x69, 0x67, 0x68], Dict{String, Vector{UInt8}}(), nothing, Dict{String, MeshCat.SceneTrees.SceneNode}(\"after_FL_thigh_joint\" => MeshCat.SceneTrees.SceneNode(nothing, UInt8[0x83, 0xa6, 0x6d, 0x61, 0x74, 0x72, 0x69, 0x78, 0xc7, 0x40  …  0x68, 0x69, 0x67, 0x68, 0x5f, 0x6a, 0x6f, 0x69, 0x6e, 0x74], Dict{String, Vector{UInt8}}(), nothing, Dict{String, MeshCat.SceneTrees.SceneNode}(\"geometry_9\" => MeshCat.SceneTrees.SceneNode(UInt8[0x83, 0xa6, 0x6f, 0x62, 0x6a, 0x65, 0x63, 0x74, 0x84, 0xaa  …  0x67, 0x65, 0x6f, 0x6d, 0x65, 0x74, 0x72, 0x79, 0x5f, 0x39], UInt8[0x83, 0xa6, 0x6d, 0x61, 0x74, 0x72, 0x69, 0x78, 0xc7, 0x40  …  0x67, 0x65, 0x6f, 0x6d, 0x65, 0x74, 0x72, 0x79, 0x5f, 0x39], Dict{String, Vector{UInt8}}(), nothing, Dict{String, MeshCat.SceneTrees.SceneNode}()))), \"FL_calf\" => MeshCat.SceneTrees.SceneNode(nothing, UInt8[0x83, 0xa6, 0x6d, 0x61, 0x74, 0x72, 0x69, 0x78, 0xc7, 0x40  …  0x67, 0x68, 0x2f, 0x46, 0x4c, 0x5f, 0x63, 0x61, 0x6c, 0x66], Dict{String, Vector{UInt8}}(), nothing, Dict{String, MeshCat.SceneTrees.SceneNode}(\"FL_foot\" => MeshCat.SceneTrees.SceneNode(nothing, UInt8[0x83, 0xa6, 0x6d, 0x61, 0x74, 0x72, 0x69, 0x78, 0xc7, 0x40  …  0x6c, 0x66, 0x2f, 0x46, 0x4c, 0x5f, 0x66, 0x6f, 0x6f, 0x74], Dict{String, Vector{UInt8}}(), nothing, Dict{String, MeshCat.SceneTrees.SceneNode}(\"after_FL_foot_fixed\" => MeshCat.SceneTrees.SceneNode(nothing, UInt8[0x83, 0xa6, 0x6d, 0x61, 0x74, 0x72, 0x69, 0x78, 0xc7, 0x40  …  0x66, 0x6f, 0x6f, 0x74, 0x5f, 0x66, 0x69, 0x78, 0x65, 0x64], Dict{String, Vector{UInt8}}(), nothing, Dict{String, MeshCat.SceneTrees.SceneNode}(\"geometry_11\" => MeshCat.SceneTrees.SceneNode(UInt8[0x83, 0xa6, 0x6f, 0x62, 0x6a, 0x65, 0x63, 0x74, 0x84, 0xaa  …  0x65, 0x6f, 0x6d, 0x65, 0x74, 0x72, 0x79, 0x5f, 0x31, 0x31], UInt8[0x83, 0xa6, 0x6d, 0x61, 0x74, 0x72, 0x69, 0x78, 0xc7, 0x40  …  0x65, 0x6f, 0x6d, 0x65, 0x74, 0x72, 0x79, 0x5f, 0x31, 0x31], Dict{String, Vector{UInt8}}(), nothing, Dict{String, MeshCat.SceneTrees.SceneNode}()))))), \"after_FL_calf_joint\" => MeshCat.SceneTrees.SceneNode(nothing, UInt8[0x83, 0xa6, 0x6d, 0x61, 0x74, 0x72, 0x69, 0x78, 0xc7, 0x40  …  0x63, 0x61, 0x6c, 0x66, 0x5f, 0x6a, 0x6f, 0x69, 0x6e, 0x74], Dict{String, Vector{UInt8}}(), nothing, Dict{String, MeshCat.SceneTrees.SceneNode}(\"geometry_10\" => MeshCat.SceneTrees.SceneNode(UInt8[0x83, 0xa6, 0x6f, 0x62, 0x6a, 0x65, 0x63, 0x74, 0x84, 0xaa  …  0x65, 0x6f, 0x6d, 0x65, 0x74, 0x72, 0x79, 0x5f, 0x31, 0x30], UInt8[0x83, 0xa6, 0x6d, 0x61, 0x74, 0x72, 0x69, 0x78, 0xc7, 0x40  …  0x65, 0x6f, 0x6d, 0x65, 0x74, 0x72, 0x79, 0x5f, 0x31, 0x30], Dict{String, Vector{UInt8}}(), nothing, Dict{String, MeshCat.SceneTrees.SceneNode}()))))))))), \"imu_link\" => MeshCat.SceneTrees.SceneNode(nothing, UInt8[0x83, 0xa6, 0x6d, 0x61, 0x74, 0x72, 0x69, 0x78, 0xc7, 0x40  …  0x6b, 0x2f, 0x69, 0x6d, 0x75, 0x5f, 0x6c, 0x69, 0x6e, 0x6b], Dict{String, Vector{UInt8}}(), nothing, Dict{String, MeshCat.SceneTrees.SceneNode}(\"after_imu_joint\" => MeshCat.SceneTrees.SceneNode(nothing, UInt8[0x83, 0xa6, 0x6d, 0x61, 0x74, 0x72, 0x69, 0x78, 0xc7, 0x40  …  0x5f, 0x69, 0x6d, 0x75, 0x5f, 0x6a, 0x6f, 0x69, 0x6e, 0x74], Dict{String, Vector{UInt8}}(), nothing, Dict{String, MeshCat.SceneTrees.SceneNode}(\"geometry_3\" => MeshCat.SceneTrees.SceneNode(UInt8[0x83, 0xa6, 0x6f, 0x62, 0x6a, 0x65, 0x63, 0x74, 0x84, 0xaa  …  0x67, 0x65, 0x6f, 0x6d, 0x65, 0x74, 0x72, 0x79, 0x5f, 0x33], UInt8[0x83, 0xa6, 0x6d, 0x61, 0x74, 0x72, 0x69, 0x78, 0xc7, 0x40  …  0x67, 0x65, 0x6f, 0x6d, 0x65, 0x74, 0x72, 0x79, 0x5f, 0x33], Dict{String, Vector{UInt8}}(), nothing, Dict{String, MeshCat.SceneTrees.SceneNode}()))))))), \"base\" => MeshCat.SceneTrees.SceneNode(nothing, UInt8[0x83, 0xa6, 0x6d, 0x61, 0x74, 0x72, 0x69, 0x78, 0xc7, 0x40  …  0x2f, 0x62, 0x61, 0x73, 0x65, 0x2f, 0x62, 0x61, 0x73, 0x65], Dict{String, Vector{UInt8}}(), nothing, Dict{String, MeshCat.SceneTrees.SceneNode}(\"geometry_1\" => MeshCat.SceneTrees.SceneNode(UInt8[0x83, 0xa6, 0x6f, 0x62, 0x6a, 0x65, 0x63, 0x74, 0x84, 0xaa  …  0x67, 0x65, 0x6f, 0x6d, 0x65, 0x74, 0x72, 0x79, 0x5f, 0x31], UInt8[0x83, 0xa6, 0x6d, 0x61, 0x74, 0x72, 0x69, 0x78, 0xc7, 0x40  …  0x67, 0x65, 0x6f, 0x6d, 0x65, 0x74, 0x72, 0x79, 0x5f, 0x31], Dict{String, Vector{UInt8}}(), nothing, Dict{String, MeshCat.SceneTrees.SceneNode}()))))))))))), Set{Any}(), ip\"127.0.0.1\", 8701))"
      ]
     },
     "execution_count": 15,
     "metadata": {},
     "output_type": "execute_result"
    }
   ],
   "source": [
    "render(vis)"
   ]
  },
  {
   "cell_type": "code",
   "execution_count": 134,
   "id": "42e215c1",
   "metadata": {},
   "outputs": [
    {
     "data": {
      "image/png": "[encoded data removed]",
      "text/plain": [
       "Figure(PyObject <Figure size 640x480 with 1 Axes>)"
      ]
     },
     "metadata": {},
     "output_type": "display_data"
    }
   ],
   "source": [
    "# plot(com_offset[1],com_offset[2],\"o\")\n",
    "# plot(x_eq[5], x_eq[6], \"*\")\n",
    "plot(ss[1:end,1].+0.014, ss[1:end,2].-0.01, \".\")\n",
    "plot(p[[1,10]], p[[2,11]])\n",
    "xlim([-0.05, 0.05])\n",
    "ylim([-0.05, 0.05])\n",
    "xlabel(\"x (m)\")\n",
    "ylabel(\"y (m)\")\n",
    "grid()"
   ]
  },
  {
   "cell_type": "code",
   "execution_count": 16,
   "id": "6570ed75",
   "metadata": {},
   "outputs": [
    {
     "data": {
      "image/png": "[encoded data removed]",
      "text/plain": [
       "Figure(PyObject <Figure size 640x480 with 2 Axes>)"
      ]
     },
     "metadata": {},
     "output_type": "display_data"
    },
    {
     "data": {
      "text/plain": [
       "3-element Vector{PyCall.PyObject}:\n",
       " PyObject <matplotlib.lines.Line2D object at 0x7f1a0f94ca30>\n",
       " PyObject <matplotlib.lines.Line2D object at 0x7f1a0f94cb50>\n",
       " PyObject <matplotlib.lines.Line2D object at 0x7f1a0f94cc10>"
      ]
     },
     "execution_count": 16,
     "metadata": {},
     "output_type": "execute_result"
    }
   ],
   "source": [
    "let \n",
    "    ###### Simulation Loop for centroidal model ######\n",
    "    n = length(x_eq)\n",
    "    h = 0.001\n",
    "    tf = 5.0\n",
    "    times = 0:h:tf\n",
    "    ϕ_cons = QB.fk_world(x_eq)[foot_indices] # feet constraint \n",
    "    ind_fixed = [2,3, 6,7, 10, 11]\n",
    "    # Loop variables \n",
    "    ss = zeros(length(times), 13)\n",
    "    fs = zeros(length(times), 12)\n",
    "    δss = zeros(length(times), 12) \n",
    "    fs[1,:] = zeros(12)\n",
    "    ss[1,:] = copy(s_des)\n",
    "    ss[1,1] = -0.0\n",
    "    ss[1,11] = ss[1,11] #+ 0.1\n",
    "    ss[1,12] = ss[1,12] #+ 0.1\n",
    "\n",
    "    com_offset = [0.01, 0.0, 0.0] # breaks after 0.01 shifts in any direction\n",
    "    for i in 1:length(times) - 1\n",
    "        ## get sensor \n",
    "        encs = x_eq[8:19]\n",
    "        quat_meas = UnitQuaternion(ss[i,7:10])\n",
    "        ## Feedback control \n",
    "        fk_cons = QB.fk_world(x_eq)[foot_indices] # feet constraint \n",
    "        sn = copy(ss[i,:]) \n",
    "        sn[1:3] -= (quat_meas' * com_offset)\n",
    "        f, δs = qp_controller(model, problem2, controller, sn, encs, fs[i,:], foot_indices)   \n",
    "\n",
    "        fs[i+1,foot_indices] = f\n",
    "        δss[i,:] = δs\n",
    "\n",
    "        ss[i+1,:] = QB.dynamics_rk4(model, ss[i,:], fs[i,:] + controller.f_des, h)\n",
    "    end\n",
    "    \n",
    "    f_sum_des = zeros(length(times),6)\n",
    "    for i in 1:size(fs,1)\n",
    "        rot = QB.H'QB.L(ss[i,7:10])*QB.R(ss[i,7:10])'QB.H #Rotation matrix\n",
    "        r̂1 = QB.hat(rot'*(model.p1-ss[1:3])) # rotate to body frame\n",
    "        r̂2 = QB.hat(rot'*(model.p2-ss[1:3]))\n",
    "        r̂3 = QB.hat(rot'*(model.p3-ss[1:3]))\n",
    "        r̂4 = QB.hat(rot'*(model.p4-ss[1:3]))\n",
    "        M = [I(3) I(3) I(3) I(3);\n",
    "             r̂1   r̂2    r̂3   r̂4]\n",
    "        f_sum_des[i,:] = M*fs[i,:]\n",
    "    end \n",
    "    subplot(2,1,1)\n",
    "    plot(δss[1:end,7:9])\n",
    "    \n",
    "    subplot(2,1,2)\n",
    "    plot(f_sum_des[:,1:3])\n",
    "    \n",
    "    \n",
    "end"
   ]
  },
  {
   "cell_type": "code",
   "execution_count": null,
   "id": "5b22c772",
   "metadata": {},
   "outputs": [],
   "source": []
  }
 ],
 "metadata": {
  "kernelspec": {
   "display_name": "Julia 1.6.5",
   "language": "julia",
   "name": "julia-1.6"
  },
  "language_info": {
   "file_extension": ".jl",
   "mimetype": "application/julia",
   "name": "julia",
   "version": "1.6.5"
  }
 },
 "nbformat": 4,
 "nbformat_minor": 5
}
