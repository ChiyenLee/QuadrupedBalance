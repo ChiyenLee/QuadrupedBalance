{
 "cells": [
  {
   "cell_type": "code",
   "execution_count": 1,
   "id": "63beb609",
   "metadata": {},
   "outputs": [
    {
     "name": "stderr",
     "output_type": "stream",
     "text": [
      "\u001b[32m\u001b[1m  Activating\u001b[22m\u001b[39m project at `~/dev/QuadrupedBalance.jl`\n",
      "┌ Info: Precompiling QuadrupedBalance [701d57af-faf8-455d-a833-a69eed6154c2]\n",
      "└ @ Base loading.jl:1423\n"
     ]
    },
    {
     "data": {
      "text/plain": [
       "QuadrupedBalance"
      ]
     },
     "execution_count": 1,
     "metadata": {},
     "output_type": "execute_result"
    }
   ],
   "source": [
    "using Pkg; Pkg.activate(\"../.\")\n",
    "using MathOptInterface\n",
    "using Ipopt\n",
    "using Revise\n",
    "using Pkg\n",
    "using TOML\n",
    "const MOI = MathOptInterface\n",
    "using RigidBodyDynamics\n",
    "using QuadrupedBalance\n",
    "using Rotations\n",
    "using LinearAlgebra\n",
    "using ForwardDiff\n",
    "using SparseArrays\n",
    "using PyPlot\n",
    "using DelimitedFiles\n",
    "const QB = QuadrupedBalance"
   ]
  },
  {
   "cell_type": "code",
   "execution_count": 3,
   "id": "5174088c",
   "metadata": {},
   "outputs": [
    {
     "data": {
      "text/plain": [
       "solve (generic function with 1 method)"
      ]
     },
     "execution_count": 3,
     "metadata": {},
     "output_type": "execute_result"
    }
   ],
   "source": [
    "#Boilerplate code to interface with IPOPT\n",
    "struct ProblemMOI <: MOI.AbstractNLPEvaluator\n",
    "    n_nlp::Int\n",
    "    m_nlp::Int\n",
    "    idx_ineq\n",
    "    obj_grad::Bool\n",
    "    con_jac::Bool\n",
    "    sparsity_jac\n",
    "    sparsity_hess\n",
    "    primal_bounds\n",
    "    constraint_bounds\n",
    "    hessian_lagrangian::Bool\n",
    "end\n",
    "\n",
    "function ProblemMOI(n_nlp,m_nlp;\n",
    "        idx_ineq=(1:0),\n",
    "        obj_grad=true,\n",
    "        con_jac=true,\n",
    "        sparsity_jac=sparsity_jacobian(n_nlp,m_nlp),\n",
    "        sparsity_hess=sparsity_hessian(n_nlp,m_nlp),\n",
    "        primal_bounds=primal_bounds(n_nlp),\n",
    "        constraint_bounds=constraint_bounds(m_nlp,idx_ineq=idx_ineq),\n",
    "        hessian_lagrangian=false)\n",
    "\n",
    "    ProblemMOI(n_nlp,m_nlp,\n",
    "        idx_ineq,\n",
    "        obj_grad,\n",
    "        con_jac,\n",
    "        sparsity_jac,\n",
    "        sparsity_hess,\n",
    "        primal_bounds,\n",
    "        constraint_bounds,\n",
    "        hessian_lagrangian)\n",
    "end\n",
    "\n",
    "function row_col!(row,col,r,c)\n",
    "    for cc in c\n",
    "        for rr in r\n",
    "            push!(row,convert(Int,rr))\n",
    "            push!(col,convert(Int,cc))\n",
    "        end\n",
    "    end\n",
    "    return row, col\n",
    "end\n",
    "\n",
    "function sparsity_jacobian(n,m)\n",
    "\n",
    "    row = []\n",
    "    col = []\n",
    "\n",
    "    r = 1:m\n",
    "    c = 1:n\n",
    "\n",
    "    row_col!(row,col,r,c)\n",
    "\n",
    "    return collect(zip(row,col))\n",
    "end\n",
    "\n",
    "function sparsity_hessian(n,m)\n",
    "\n",
    "    row = []\n",
    "    col = []\n",
    "\n",
    "    r = 1:m\n",
    "    c = 1:n\n",
    "\n",
    "    row_col!(row,col,r,c)\n",
    "\n",
    "    return collect(zip(row,col))\n",
    "end\n",
    "\n",
    "function MOI.eval_objective(prob::MOI.AbstractNLPEvaluator, x)\n",
    "    objective(x)\n",
    "end\n",
    "\n",
    "function MOI.eval_objective_gradient(prob::MOI.AbstractNLPEvaluator, grad_f, x)\n",
    "    ForwardDiff.gradient!(grad_f,objective,x)\n",
    "    return nothing\n",
    "end\n",
    "\n",
    "function MOI.eval_constraint(prob::MOI.AbstractNLPEvaluator,g,x)\n",
    "    constraint!(g,x)\n",
    "    return nothing\n",
    "end\n",
    "\n",
    "function MOI.eval_constraint_jacobian(prob::MOI.AbstractNLPEvaluator, jac, x)\n",
    "    ForwardDiff.jacobian!(reshape(jac,prob.m_nlp,prob.n_nlp), constraint!, zeros(prob.m_nlp), x)\n",
    "    return nothing\n",
    "end\n",
    "\n",
    "function MOI.features_available(prob::MOI.AbstractNLPEvaluator)\n",
    "    return [:Grad, :Jac]\n",
    "end\n",
    "\n",
    "MOI.initialize(prob::MOI.AbstractNLPEvaluator, features) = nothing\n",
    "MOI.jacobian_structure(prob::MOI.AbstractNLPEvaluator) = prob.sparsity_jac\n",
    "\n",
    "function solve(x0,prob::MOI.AbstractNLPEvaluator;\n",
    "        tol=1.0e-6,c_tol=1.0e-6,max_iter=10000)\n",
    "    x_l, x_u = prob.primal_bounds\n",
    "    c_l, c_u = prob.constraint_bounds\n",
    "\n",
    "    nlp_bounds = MOI.NLPBoundsPair.(c_l,c_u)\n",
    "    block_data = MOI.NLPBlockData(nlp_bounds,prob,true)\n",
    "\n",
    "    solver = Ipopt.Optimizer()\n",
    "    solver.options[\"max_iter\"] = max_iter\n",
    "    solver.options[\"tol\"] = tol\n",
    "    solver.options[\"constr_viol_tol\"] = c_tol\n",
    "\n",
    "    x = MOI.add_variables(solver,prob.n_nlp)\n",
    "\n",
    "    for i = 1:prob.n_nlp\n",
    "        xi = MOI.SingleVariable(x[i])\n",
    "        MOI.add_constraint(solver, xi, MOI.LessThan(x_u[i]))\n",
    "        MOI.add_constraint(solver, xi, MOI.GreaterThan(x_l[i]))\n",
    "        MOI.set(solver, MOI.VariablePrimalStart(), x[i], x0[i])\n",
    "    end\n",
    "\n",
    "    # Solve the problem\n",
    "    MOI.set(solver, MOI.NLPBlock(), block_data)\n",
    "    MOI.set(solver, MOI.ObjectiveSense(), MOI.MIN_SENSE)\n",
    "    MOI.optimize!(solver)\n",
    "\n",
    "    # Get the solution\n",
    "    res = MOI.get(solver, MOI.VariablePrimal(), x)\n",
    "\n",
    "    return res\n",
    "end\n"
   ]
  },
  {
   "cell_type": "code",
   "execution_count": 13,
   "id": "54ea7279",
   "metadata": {},
   "outputs": [
    {
     "data": {
      "text/plain": [
       "3-element Vector{Float64}:\n",
       " -0.18299999999562044\n",
       "  0.13205000000009828\n",
       "  2.63428168167934e-13"
      ]
     },
     "execution_count": 13,
     "metadata": {},
     "output_type": "execute_result"
    }
   ],
   "source": [
    "#### Loading eq point, and setting which foot are in contacts \n",
    "data = TOML.parsefile(\"ipopt_eq_point_light.toml\") # load eq point \n",
    "x_eq = data[\"x_eq\"];\n",
    "u_eq = data[\"u_eq\"];\n",
    "λ_eq = data[\"λ_eq\"];\n",
    "\n",
    "urdfpath = joinpath(@__DIR__, \"..\", \"src\",\"a1\",\"urdf\",\"a1_light.urdf\")\n",
    "A1mech = parse_urdf(urdfpath, floating=true, remove_fixed_tree_joints=false)\n",
    "A1 = QuadrupedBalance.UnitreeA1FullBody(A1mech);\n",
    "foot_contacts = [1, 0, 0, 1] # FR, FL, RR, RL\n",
    "foot_indices = []            # specifies which foot constraints are active \n",
    "for i in 1:length(foot_contacts)\n",
    "    if(foot_contacts[i] == 1)\n",
    "        append!(foot_indices, (i-1)*3 .+ (1:3))\n",
    "    end \n",
    "end \n",
    "\n",
    "p = QB.fk_world(x_eq)[foot_indices];\n",
    "p1 = p[1:3]\n",
    "p2 = p[4:6]"
   ]
  },
  {
   "cell_type": "code",
   "execution_count": 183,
   "id": "75569aa2",
   "metadata": {},
   "outputs": [
    {
     "data": {
      "text/plain": [
       "dynamics (generic function with 1 method)"
      ]
     },
     "execution_count": 183,
     "metadata": {},
     "output_type": "execute_result"
    }
   ],
   "source": [
    "function dynamics(J, m, x, u, p1, p2)\n",
    "    g = [0.0, 0.0, -9.81]\n",
    "    p = x[1:3]\n",
    "    ṗ = x[4:6]\n",
    "    q = x[7:10]\n",
    "    ω = x[11:13]\n",
    "    \n",
    "    Q = QB.H'QB.L(q)*QB.R(q)'QB.H #Rotation matrix\n",
    "    r1 = Q'*(p1 - p)\n",
    "    r2 = Q'*(p2 - p)\n",
    "    u_out = [I(3); QB.hat(r1)] * u[1:3] + [I(3); QB.hat(r2)] * u[4:6]\n",
    "    f = u_out[1:3]\n",
    "    τ = u_out[4:6]\n",
    "\n",
    "    # linear dynamics\n",
    "    p̈ = 1/m * f + g \n",
    "    \n",
    "    # attitude dynamics \n",
    "    q̇ = 0.5*QB.L(q)*QB.H*ω\n",
    "    ω_dot =  Diagonal(J) \\ (τ - 1.0 * ω - QB.hat(ω) * Diagonal(J) * ω)\n",
    "\n",
    "    return [ṗ; p̈; q̇; ω_dot]\n",
    "\n",
    "end"
   ]
  },
  {
   "cell_type": "code",
   "execution_count": 26,
   "id": "692292b8",
   "metadata": {},
   "outputs": [
    {
     "data": {
      "text/plain": [
       "dynamics_rk4 (generic function with 1 method)"
      ]
     },
     "execution_count": 26,
     "metadata": {},
     "output_type": "execute_result"
    }
   ],
   "source": [
    "function dynamics_rk4(J, m,x,u, p1, p2, h)\n",
    "    #RK4 integration with zero-order hold on u\n",
    "    f1 = dynamics(J, m, x, u, p1, p2)\n",
    "    f2 = dynamics(J, m, x + 0.5*h*f1, u, p1, p2)\n",
    "    f3 = dynamics(J, m, x + 0.5*h*f2, u, p1, p2)\n",
    "    f4 = dynamics(J, m, x + h*f3, u, p1, p2)\n",
    "    return x + (h/6.0)*(f1 + 2*f2 + 2*f3 + f4)\n",
    "end"
   ]
  },
  {
   "cell_type": "code",
   "execution_count": 176,
   "id": "8a807631",
   "metadata": {},
   "outputs": [],
   "source": [
    "### Load states and inputs\n",
    "N = 500\n",
    "states = readdlm(\"states.txt\", '\\t', Float64, '\\n')[1:N,:]\n",
    "inputs = readdlm(\"inputs.txt\", '\\t', Float64, '\\n')[1:N,:];"
   ]
  },
  {
   "cell_type": "code",
   "execution_count": 140,
   "id": "2b456972",
   "metadata": {},
   "outputs": [
    {
     "name": "stdout",
     "output_type": "stream",
     "text": [
      "This is Ipopt version 3.13.4, running with linear solver mumps.\n",
      "NOTE: Other linear solvers might be more efficient (see Ipopt documentation).\n",
      "\n",
      "Number of nonzeros in equality constraint Jacobian...:        0\n",
      "Number of nonzeros in inequality constraint Jacobian.:        0\n",
      "Number of nonzeros in Lagrangian Hessian.............:        0\n",
      "\n",
      "Total number of variables............................:        4\n",
      "                     variables with only lower bounds:        0\n",
      "                variables with lower and upper bounds:        4\n",
      "                     variables with only upper bounds:        0\n",
      "Total number of equality constraints.................:        0\n",
      "Total number of inequality constraints...............:        0\n",
      "        inequality constraints with only lower bounds:        0\n",
      "   inequality constraints with lower and upper bounds:        0\n",
      "        inequality constraints with only upper bounds:        0\n",
      "\n",
      "iter    objective    inf_pr   inf_du lg(mu)  ||d||  lg(rg) alpha_du alpha_pr  ls\n",
      "   0  2.5722005e+02 0.00e+00 1.00e+02   0.0 0.00e+00    -  0.00e+00 0.00e+00   0\n",
      "   1  2.9339771e+00 0.00e+00 1.51e+01   1.6 5.82e+01    -  3.50e-01 4.18e-02f  1\n",
      "   2  2.9094637e+00 0.00e+00 4.78e-01  -0.6 1.70e-02    -  9.97e-01 1.00e+00f  1\n",
      "   3  2.8712256e+00 0.00e+00 3.03e-01  -2.1 6.01e-02    -  1.00e+00 1.00e+00f  1\n",
      "   4  2.7369603e+00 0.00e+00 8.29e-01  -3.3 2.38e-01    -  1.00e+00 1.00e+00f  1\n",
      "   5  2.0740660e+00 0.00e+00 1.42e+00  -4.2 1.57e+00    -  1.00e+00 1.00e+00f  1\n",
      "   6  1.6576373e+00 0.00e+00 3.31e-01  -5.6 1.20e+00    -  1.00e+00 1.00e+00f  1\n",
      "   7  1.4529484e+00 0.00e+00 9.31e-02  -5.2 2.44e+00    -  1.00e+00 2.25e-01f  2\n",
      "   8  1.4165885e+00 0.00e+00 5.13e-02  -5.6 2.98e+00    -  1.00e+00 4.50e-02f  3\n",
      "   9  1.3482464e+00 0.00e+00 1.05e-01  -6.7 6.12e-01    -  1.00e+00 1.00e+00f  1\n",
      "iter    objective    inf_pr   inf_du lg(mu)  ||d||  lg(rg) alpha_du alpha_pr  ls\n",
      "  10  1.2451007e+00 0.00e+00 8.10e-01  -5.2 3.01e+00    -  1.00e+00 6.42e-01f  1\n",
      "  11  1.2035603e+00 0.00e+00 1.20e+00  -3.4 4.04e+01    -  1.00e+00 7.37e-02f  3\n",
      "  12  1.1287179e+00 0.00e+00 5.58e-01  -3.8 3.67e+00    -  1.00e+00 4.43e-01f  2\n",
      "  13  1.0945547e+00 0.00e+00 6.77e-01  -3.5 1.16e+00    -  1.00e+00 1.00e+00f  1\n",
      "  14  1.0799132e+00 0.00e+00 4.87e-01  -3.9 1.74e+00    -  1.00e+00 1.00e+00f  1\n",
      "  15  1.0753314e+00 0.00e+00 1.03e+00  -4.0 2.19e+00    -  1.00e+00 1.00e+00f  1\n",
      "  16  1.0115132e+00 0.00e+00 1.27e-01  -4.4 7.42e-01    -  1.00e+00 1.00e+00f  1\n",
      "  17  9.8586846e-01 0.00e+00 1.33e-01  -4.1 3.36e+01    -  1.00e+00 9.45e-02f  1\n",
      "  18  9.8177061e-01 0.00e+00 7.47e-02  -3.9 2.78e+00    -  1.00e+00 1.59e-01f  3\n",
      "  19  9.7638174e-01 0.00e+00 1.72e-01  -4.6 2.84e+00    -  1.00e+00 2.41e-01f  3\n",
      "iter    objective    inf_pr   inf_du lg(mu)  ||d||  lg(rg) alpha_du alpha_pr  ls\n",
      "  20  9.7291580e-01 0.00e+00 1.13e-02  -4.3 8.63e-02    -  1.00e+00 3.94e-01f  2\n",
      "  21  9.7270213e-01 0.00e+00 2.29e-03  -6.2 2.34e-02    -  1.00e+00 1.00e+00f  1\n",
      "  22  9.7266744e-01 0.00e+00 1.31e-03  -7.5 3.32e-02    -  1.00e+00 1.00e+00f  1\n",
      "  23  9.7266695e-01 0.00e+00 2.84e-03  -8.7 1.99e-02    -  1.00e+00 6.25e-02f  5\n",
      "  24  9.7266019e-01 0.00e+00 5.83e-04 -10.1 1.92e-02    -  1.00e+00 9.37e-01f  1\n",
      "  25  9.7265992e-01 0.00e+00 1.37e-05 -11.0 9.90e-04    -  1.00e+00 1.00e+00f  1\n",
      "  26  9.7265992e-01 0.00e+00 1.17e-06 -11.0 4.05e-05    -  1.00e+00 1.00e+00f  1\n",
      "  27  9.7265992e-01 0.00e+00 6.05e-07 -11.0 1.96e-05    -  1.00e+00 5.00e-01f  2\n",
      "\n",
      "Number of Iterations....: 27\n",
      "\n",
      "                                   (scaled)                 (unscaled)\n",
      "Objective...............:   3.9165831017190428e-01    9.7265991744343361e-01\n",
      "Dual infeasibility......:   6.0473280057089002e-07    1.5018176318547906e-06\n",
      "Constraint violation....:   0.0000000000000000e+00    0.0000000000000000e+00\n",
      "Complementarity.........:   1.0009999701360120e-11    2.4859233751124346e-11\n",
      "Overall NLP error.......:   6.0473280057089002e-07    1.5018176318547906e-06\n",
      "\n",
      "\n",
      "Number of objective function evaluations             = 80\n",
      "Number of objective gradient evaluations             = 28\n",
      "Number of equality constraint evaluations            = 0\n",
      "Number of inequality constraint evaluations          = 0\n",
      "Number of equality constraint Jacobian evaluations   = 0\n",
      "Number of inequality constraint Jacobian evaluations = 0\n",
      "Number of Lagrangian Hessian evaluations             = 0\n",
      "Total CPU secs in IPOPT (w/o function evaluations)   =      0.187\n",
      "Total CPU secs in NLP function evaluations           =      5.895\n",
      "\n",
      "EXIT: Optimal Solution Found.\n"
     ]
    },
    {
     "data": {
      "text/plain": [
       "4-element Vector{Float64}:\n",
       "  2.0544300620863707\n",
       " 20.0\n",
       "  0.4080311295238593\n",
       " 12.416192780781348"
      ]
     },
     "execution_count": 140,
     "metadata": {},
     "output_type": "execute_result"
    }
   ],
   "source": [
    "# constraints on inertia\n",
    "h = 0.001\n",
    "mass = 12.454\n",
    "lim_upper = ones(4) * 20\n",
    "lim_upper[4] = 12.454\n",
    "lim_lower = zeros(4) \n",
    "\n",
    "\n",
    "##### NLP for solving quadruped equilibrium point #####\n",
    "function objective(z)\n",
    "\n",
    "    cost = 0\n",
    "    x = copy(states[1,:])\n",
    "    for i in 1:size(states,1)-1\n",
    "        x = dynamics_rk4(z[1:3], z[4], x, inputs[i,:], p1, p2, h) \n",
    "        cost += (x .- states[i+1,:])' * (x .- states[i+1,:])\n",
    "    end\n",
    "    return cost\n",
    "end \n",
    "\n",
    "function constraint!(c, z)\n",
    "\n",
    "end\n",
    "\n",
    "function primal_bounds(n)\n",
    "    x_l = ones(n) * -Inf \n",
    "    x_u = ones(n) * Inf \n",
    "    x_l[1:4] = lim_lower \n",
    "    x_u[1:4] = lim_upper \n",
    "    return x_l, x_u\n",
    "end\n",
    "\n",
    "function constraint_bounds(m; idx_ineq=(1:0))\n",
    "    c_l = zeros(m)\n",
    "    c_u = zeros(m)\n",
    "\n",
    "    return c_l, c_u\n",
    "end\n",
    "\n",
    "n = 13\n",
    "n_nlp = 4\n",
    "m_nlp = 0\n",
    "z_guess = [0.065, 0.188, 0.2, 10.0]\n",
    "# z_guess = [x_guess..., u_guess..., zeros(3*sum(foot_contacts))...]\n",
    "prob = ProblemMOI(n_nlp, m_nlp, idx_ineq=(1:0)) \n",
    "z_sol = solve(z_guess, prob)"
   ]
  },
  {
   "cell_type": "code",
   "execution_count": 184,
   "id": "509b1b34",
   "metadata": {},
   "outputs": [
    {
     "data": {
      "text/plain": [
       "(4.7863969402967115, [0.005934386789589617 -0.0008722943878113227 … 0.0 0.0; 0.005934386789589617 -0.0008722943878113227 … 0.0 0.0; … ; -0.004287684085749212 0.0044888278528603925 … 0.01656692014447385 0.005675399650308147; -0.0043212711244320036 0.0045025306594959425 … 0.016266666125494045 0.005708026523144454])"
      ]
     },
     "execution_count": 184,
     "metadata": {},
     "output_type": "execute_result"
    }
   ],
   "source": [
    "function objective_eval(z)\n",
    "\n",
    "    cost = 0\n",
    "    xs = zero(states)\n",
    "    xs[1,:] = copy(states[1,:])\n",
    "    for i in 1:size(states,1)-1\n",
    "        xs[i+1,:] = dynamics_rk4(z[1:3], z[4], xs[i,:], inputs[i,:], p1, p2, h) \n",
    "        cost += (xs[i+1,:] .- states[i+1,:])' * (xs[i+1,:] .- states[i+1,:])\n",
    "    end\n",
    "    return cost, xs\n",
    "end \n",
    "\n",
    "cost, xs = objective_eval([0.025, 0.15, 0.164, 12.454])"
   ]
  },
  {
   "cell_type": "code",
   "execution_count": 188,
   "id": "fcb9b12e",
   "metadata": {},
   "outputs": [
    {
     "data": {
      "image/png": "[encoded data removed]",
      "text/plain": [
       "Figure(PyObject <Figure size 640x480 with 1 Axes>)"
      ]
     },
     "metadata": {},
     "output_type": "display_data"
    },
    {
     "data": {
      "text/plain": [
       "13-element Vector{PyCall.PyObject}:\n",
       " PyObject <matplotlib.lines.Line2D object at 0x7fa2231b7670>\n",
       " PyObject <matplotlib.lines.Line2D object at 0x7fa2231b7790>\n",
       " PyObject <matplotlib.lines.Line2D object at 0x7fa2231b7850>\n",
       " PyObject <matplotlib.lines.Line2D object at 0x7fa2231b7910>\n",
       " PyObject <matplotlib.lines.Line2D object at 0x7fa2231b79d0>\n",
       " PyObject <matplotlib.lines.Line2D object at 0x7fa2231b7a90>\n",
       " PyObject <matplotlib.lines.Line2D object at 0x7fa2231b7b50>\n",
       " PyObject <matplotlib.lines.Line2D object at 0x7fa2231b7c10>\n",
       " PyObject <matplotlib.lines.Line2D object at 0x7fa2231b7cd0>\n",
       " PyObject <matplotlib.lines.Line2D object at 0x7fa2231b7d90>\n",
       " PyObject <matplotlib.lines.Line2D object at 0x7fa2231f0040>\n",
       " PyObject <matplotlib.lines.Line2D object at 0x7fa2231b7eb0>\n",
       " PyObject <matplotlib.lines.Line2D object at 0x7fa2231b7fa0>"
      ]
     },
     "execution_count": 188,
     "metadata": {},
     "output_type": "execute_result"
    }
   ],
   "source": [
    "plot(xs)"
   ]
  },
  {
   "cell_type": "code",
   "execution_count": 181,
   "id": "8654af6e",
   "metadata": {},
   "outputs": [
    {
     "data": {
      "image/png": "[encoded data removed]",
      "text/plain": [
       "Figure(PyObject <Figure size 640x480 with 1 Axes>)"
      ]
     },
     "metadata": {},
     "output_type": "display_data"
    },
    {
     "data": {
      "text/plain": [
       "13-element Vector{PyCall.PyObject}:\n",
       " PyObject <matplotlib.lines.Line2D object at 0x7fa223494a60>\n",
       " PyObject <matplotlib.lines.Line2D object at 0x7fa223494b80>\n",
       " PyObject <matplotlib.lines.Line2D object at 0x7fa223494c40>\n",
       " PyObject <matplotlib.lines.Line2D object at 0x7fa223494d00>\n",
       " PyObject <matplotlib.lines.Line2D object at 0x7fa223494dc0>\n",
       " PyObject <matplotlib.lines.Line2D object at 0x7fa223494e80>\n",
       " PyObject <matplotlib.lines.Line2D object at 0x7fa223494f40>\n",
       " PyObject <matplotlib.lines.Line2D object at 0x7fa223494fa0>\n",
       " PyObject <matplotlib.lines.Line2D object at 0x7fa2234a0100>\n",
       " PyObject <matplotlib.lines.Line2D object at 0x7fa2234a01c0>\n",
       " PyObject <matplotlib.lines.Line2D object at 0x7fa2234e4280>\n",
       " PyObject <matplotlib.lines.Line2D object at 0x7fa2234a02e0>\n",
       " PyObject <matplotlib.lines.Line2D object at 0x7fa2234a03d0>"
      ]
     },
     "execution_count": 181,
     "metadata": {},
     "output_type": "execute_result"
    }
   ],
   "source": [
    "plot(xs)"
   ]
  },
  {
   "cell_type": "code",
   "execution_count": 2,
   "id": "c263fd12",
   "metadata": {},
   "outputs": [
    {
     "data": {
      "text/plain": [
       "sum_inertia_properties (generic function with 1 method)"
      ]
     },
     "execution_count": 2,
     "metadata": {},
     "output_type": "execute_result"
    }
   ],
   "source": [
    "function sum_inertia_properties(FA1, bodylist::Vector{String}, reference_frame)\n",
    "    moment_sum = zeros(3,3)\n",
    "    cross_part_sum = zeros(3)\n",
    "    mass_sum = 0.\n",
    "\n",
    "    for body_name in bodylist \n",
    "        body = findbody(FA1.rigidbody.mech, body_name)\n",
    "        s = FA1.rigidbody.statecache[Float64]\n",
    "        copyto!(s, x_eq)\n",
    "        body_to_reference = relative_transform(s, body.inertia.frame, reference_frame)\n",
    "        inertia_in_reference = transform(body.inertia, body_to_reference)\n",
    "\n",
    "        ### Now we have the inertia properties relative to the trunk frame origin \n",
    "        ### let's sum them up\n",
    "        cross_part_sum = cross_part_sum + inertia_in_reference.cross_part\n",
    "        mass_sum += inertia_in_reference.mass\n",
    "        moment_sum += inertia_in_reference.moment\n",
    "    end \n",
    "\n",
    "    com = cross_part_sum/mass_sum \n",
    "    return com, moment_sum, mass_sum\n",
    "end "
   ]
  },
  {
   "cell_type": "code",
   "execution_count": 14,
   "id": "dee11c02",
   "metadata": {},
   "outputs": [
    {
     "data": {
      "text/plain": [
       "CartesianFrame3D: \"after_floating_base\" (id = 63)"
      ]
     },
     "execution_count": 14,
     "metadata": {},
     "output_type": "execute_result"
    }
   ],
   "source": [
    "trunk_frame = findbody(A1.rigidbody.mech, \"trunk\").inertia.frame"
   ]
  },
  {
   "cell_type": "code",
   "execution_count": 15,
   "id": "237bd3ca",
   "metadata": {},
   "outputs": [
    {
     "data": {
      "text/plain": [
       "([0.0, 0.0, 0.0], [0.027381187495917766 8.399593743400103e-5 -0.0047403198559239496; 8.399593743400103e-5 0.08036634614190742 2.519722365030061e-5; -0.00474031985592395 2.5197223650300607e-5 0.08584845337594753], 4.713)"
      ]
     },
     "execution_count": 15,
     "metadata": {},
     "output_type": "execute_result"
    }
   ],
   "source": [
    "com3, moment3, mass3 = sum_inertia_properties(A1, [\"trunk\", \"FR_hip\", \"FL_hip\", \"RR_hip\", \"RL_hip\",\n",
    "                                                            \"FR_thigh\", \"FL_thigh\", \"RR_thigh\", \"RL_thigh\"],trunk_frame)"
   ]
  },
  {
   "cell_type": "code",
   "execution_count": 16,
   "id": "fbe19459",
   "metadata": {},
   "outputs": [
    {
     "data": {
      "text/plain": [
       "3-element StaticArrays.SVector{3, Float64} with indices SOneTo(3):\n",
       " 0.0\n",
       " 0.0\n",
       " 0.0"
      ]
     },
     "execution_count": 16,
     "metadata": {},
     "output_type": "execute_result"
    }
   ],
   "source": [
    "com3"
   ]
  },
  {
   "cell_type": "code",
   "execution_count": 17,
   "id": "3e20b69d",
   "metadata": {},
   "outputs": [
    {
     "data": {
      "text/plain": [
       "3×3 StaticArrays.SMatrix{3, 3, Float64, 9} with indices SOneTo(3)×SOneTo(3):\n",
       "  0.0273812   8.39959e-5  -0.00474032\n",
       "  8.39959e-5  0.0803663    2.51972e-5\n",
       " -0.00474032  2.51972e-5   0.0858485"
      ]
     },
     "execution_count": 17,
     "metadata": {},
     "output_type": "execute_result"
    }
   ],
   "source": [
    "moment3"
   ]
  },
  {
   "cell_type": "code",
   "execution_count": 9,
   "id": "c8d49e17",
   "metadata": {},
   "outputs": [
    {
     "data": {
      "text/plain": [
       "7.496999999999999"
      ]
     },
     "execution_count": 9,
     "metadata": {},
     "output_type": "execute_result"
    }
   ],
   "source": [
    "mass3"
   ]
  },
  {
   "cell_type": "code",
   "execution_count": null,
   "id": "5dcb03b6",
   "metadata": {},
   "outputs": [],
   "source": []
  }
 ],
 "metadata": {
  "kernelspec": {
   "display_name": "Julia 1.7.0",
   "language": "julia",
   "name": "julia-1.7"
  },
  "language_info": {
   "file_extension": ".jl",
   "mimetype": "application/julia",
   "name": "julia",
   "version": "1.7.0"
  }
 },
 "nbformat": 4,
 "nbformat_minor": 5
}
