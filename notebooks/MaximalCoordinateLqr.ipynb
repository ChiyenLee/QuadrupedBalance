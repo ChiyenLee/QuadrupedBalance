{
 "cells": [
  {
   "cell_type": "code",
   "execution_count": 104,
   "id": "eb02ee8c",
   "metadata": {},
   "outputs": [],
   "source": [
    "using LinearAlgebra \n",
    "using Revise \n",
    "using TOML\n",
    "using DelimitedFiles\n",
    "using Pkg \n",
    "using RigidBodyDynamics\n",
    "using ForwardDiff\n",
    "using SparseArrays\n",
    "using Rotations\n",
    "using QuadrupedBalance"
   ]
  },
  {
   "cell_type": "code",
   "execution_count": 66,
   "id": "ed0b669e",
   "metadata": {},
   "outputs": [
    {
     "data": {
      "text/plain": [
       "maximal_coordinate_lqr"
      ]
     },
     "execution_count": 66,
     "metadata": {},
     "output_type": "execute_result"
    }
   ],
   "source": [
    "\"\"\"Maximal coorindate lqr backward ricatti\"\"\" \n",
    "function maximal_coordinate_lqr(Ad, Bd,Cd,D, Q, R, max_iter=10000)\n",
    "    N = max_iter\n",
    "    n = size(Q,1)\n",
    "    m = size(R,1)\n",
    "    l = size(Cd,2)\n",
    "    P_prev = zeros(n,n)\n",
    "    K_prev = zeros(m,n)\n",
    "    P = zeros(n,n)\n",
    "    Qn = Q\n",
    "    β = 1e-5\n",
    "    K = zeros(m,n)\n",
    "\n",
    "    P_prev .= Qn\n",
    "    K_prev .= K \n",
    "    for k = (N-1):-1:1\n",
    "        H = [R+Bd'*P_prev*Bd     Bd'*P_prev*Cd           Bd'*D'; \n",
    "             Cd'*P_prev*Bd       β*1.0I(6)+Cd'*P_prev*Cd    Cd'*D'; \n",
    "             D*Bd                    D*Cd                        -β*1.0I(6)]\n",
    "\n",
    "        b = [Bd'*P_prev*Ad; Cd'*P_prev*Ad; D*Ad]\n",
    "\n",
    "        KLM = H\\b\n",
    "        K = KLM[1:m,:]\n",
    "        L_ = KLM[m+1:m+l,:]\n",
    "        M = KLM[m+l+1:end,:]\n",
    "\n",
    "        P .= Q + K'*R*K + β*L_'*L_ + (Ad-Bd*K-Cd*L_)'*P_prev*(Ad-Bd*K-Cd*L_) - M'*D*(Ad-Bd*K-Cd*L_)\n",
    "        if norm(K_prev - K) < 1e-8\n",
    "            println(\"Backward Ricatti converged in \", k, \" iterations\")\n",
    "            return K\n",
    "        end\n",
    "        P_prev[:] .= P[:]\n",
    "        K_prev[:] .= K[:]\n",
    "    end\n",
    "\n",
    "    return K\n",
    "end"
   ]
  },
  {
   "cell_type": "code",
   "execution_count": 67,
   "id": "b66102a5",
   "metadata": {},
   "outputs": [],
   "source": [
    "data = TOML.parsefile(\"ipopt_eq_point.toml\") # load eq point \n",
    "x_eq = data[\"x_eq\"];\n",
    "u_eq = data[\"u_eq\"];\n",
    "λ_eq = data[\"λ_eq\"];"
   ]
  },
  {
   "cell_type": "code",
   "execution_count": 68,
   "id": "2fca5fa3",
   "metadata": {},
   "outputs": [],
   "source": [
    "urdfpath = joinpath(@__DIR__, \"..\", \"src\",\"a1\",\"urdf\",\"a1.urdf\")\n",
    "A1mech = parse_urdf(urdfpath, floating=true, remove_fixed_tree_joints=false)\n",
    "A1 = QuadrupedBalance.UnitreeA1FullBody(A1mech);\n",
    "foot_contacts = [1, 0, 0, 1] # FR, FL, RR, RL\n",
    "foot_indices = []\n",
    "for i in 1:length(foot_contacts)\n",
    "    if(foot_contacts[i] == 1)\n",
    "        append!(foot_indices, (i-1)*3 .+ (1:3))\n",
    "    end \n",
    "end "
   ]
  },
  {
   "cell_type": "code",
   "execution_count": 145,
   "id": "6623f861",
   "metadata": {},
   "outputs": [
    {
     "data": {
      "text/plain": [
       "3-element Vector{Float64}:\n",
       " -0.18299999999999841\n",
       "  0.13205000000000788\n",
       "  8.798517470154366e-14"
      ]
     },
     "execution_count": 145,
     "metadata": {},
     "output_type": "execute_result"
    }
   ],
   "source": [
    "QuadrupedBalance.fk_world(x_eq)[10:12]"
   ]
  },
  {
   "cell_type": "code",
   "execution_count": 146,
   "id": "73fe75ff",
   "metadata": {},
   "outputs": [
    {
     "data": {
      "text/plain": [
       "3-element Vector{Float64}:\n",
       " -0.18299999999999864\n",
       "  0.13205000000000808\n",
       "  8.754108549169359e-14"
      ]
     },
     "execution_count": 146,
     "metadata": {},
     "output_type": "execute_result"
    }
   ],
   "source": [
    "QuadrupedBalance.fk_world(A1, x_eq)[1:3]"
   ]
  },
  {
   "cell_type": "code",
   "execution_count": 151,
   "id": "a3786fb6",
   "metadata": {},
   "outputs": [
    {
     "data": {
      "text/plain": [
       "19×3 adjoint(::Matrix{Float64}) with eltype Float64:\n",
       " -0.182614   0.363707  -0.483787\n",
       " -0.115149   0.448881   0.553265\n",
       " -0.121635   0.245696  -0.308792\n",
       " -0.149519   0.41369    0.057007\n",
       "  1.0        0.0        0.0\n",
       "  0.0        1.0        0.0\n",
       "  0.0        0.0        1.0\n",
       "  0.0        0.0        0.0\n",
       "  0.0        0.0        0.0\n",
       "  0.0        0.0        0.0\n",
       "  0.025601   0.123789   0.317322\n",
       "  0.0        0.0        0.0\n",
       "  0.0        0.0        0.0\n",
       "  0.0        0.0        0.0\n",
       "  0.0356427  0.30559   -0.121601\n",
       "  0.0        0.0        0.0\n",
       "  0.0        0.0        0.0\n",
       "  0.0        0.0        0.0\n",
       "  0.123671   0.128787  -0.090107"
      ]
     },
     "execution_count": 151,
     "metadata": {},
     "output_type": "execute_result"
    }
   ],
   "source": [
    "QuadrupedBalance.dfk_world(x_temp)[10:12,1:19]'"
   ]
  },
  {
   "cell_type": "code",
   "execution_count": 148,
   "id": "cf3761a9",
   "metadata": {},
   "outputs": [
    {
     "data": {
      "text/plain": [
       "19×3 adjoint(::Matrix{Float64}) with eltype Float64:\n",
       " -0.366627     -0.263552     -0.362626\n",
       " -8.1239e-5     0.362626     -0.263552\n",
       " -0.362626     -8.1239e-5     0.366627\n",
       "  0.263552     -0.366627     -8.1239e-5\n",
       "  1.0           0.0           0.0\n",
       "  0.0           1.0           0.0\n",
       "  0.0           0.0           1.0\n",
       "  0.0           0.0           0.0\n",
       "  0.0           0.0           0.0\n",
       "  0.000198502   0.181519     -0.0848732\n",
       "  0.0           0.0           0.0\n",
       "  0.0           0.0           0.0\n",
       "  0.0           0.0           0.0\n",
       " -0.181436      0.000372318   0.0003644\n",
       "  0.0           0.0           0.0\n",
       "  0.0           0.0           0.0\n",
       "  0.0           0.0           0.0\n",
       " -0.0910755     0.000360403  -0.178059\n",
       "  0.0           0.0           0.0"
      ]
     },
     "execution_count": 148,
     "metadata": {},
     "output_type": "execute_result"
    }
   ],
   "source": [
    "QuadrupedBalance.spatial_jacobian(A1, x_eq)[4:6, 1:19]'"
   ]
  },
  {
   "cell_type": "code",
   "execution_count": 152,
   "id": "a11f6afe",
   "metadata": {},
   "outputs": [
    {
     "data": {
      "text/plain": [
       "18×3 adjoint(::Matrix{Float64}) with eltype Float64:\n",
       " -0.0186496   0.134035    0.329401\n",
       " -0.136635    0.345631   -0.0746327\n",
       " -0.0438457   0.0624094  -0.213573\n",
       " -0.112901   -0.922547    0.368998\n",
       "  0.317534    0.318397    0.893194\n",
       " -0.941502    0.218012    0.256993\n",
       "  0.0         0.0         0.0\n",
       "  0.0         0.0         0.0\n",
       "  0.0         0.0         0.0\n",
       "  0.025601    0.123789    0.317322\n",
       "  0.0         0.0         0.0\n",
       "  0.0         0.0         0.0\n",
       "  0.0         0.0         0.0\n",
       "  0.0356427   0.30559    -0.121601\n",
       "  0.0         0.0         0.0\n",
       "  0.0         0.0         0.0\n",
       "  0.0         0.0         0.0\n",
       "  0.123671    0.128787   -0.090107"
      ]
     },
     "execution_count": 152,
     "metadata": {},
     "output_type": "execute_result"
    }
   ],
   "source": [
    "QuadrupedBalance.contacts_jacobian(A1, x_temp)[1:3,:]'"
   ]
  },
  {
   "cell_type": "code",
   "execution_count": 70,
   "id": "0202dd44",
   "metadata": {},
   "outputs": [],
   "source": [
    "####### Linearizing about Eq point #########\n",
    "A,B,C = QuadrupedBalance.dynamics_jacobians(A1, x_eq, u_eq, λ_eq, foot_indices)\n",
    "# D_fd = QuadrupedBalance.dfk_world(x_eq)[foot_indices, :]\n",
    "D_fd = QuadrupedBalance.spatial_jacobian(A1, x_eq)[foot_indices,:]\n",
    "attitude_error_jacobian = blockdiag(sparse(QuadrupedBalance.quaternion_differential(x_eq[1:4])), sparse(I(33)) )\n",
    "D = D_fd * attitude_error_jacobian;"
   ]
  },
  {
   "cell_type": "code",
   "execution_count": 71,
   "id": "de398b32",
   "metadata": {},
   "outputs": [],
   "source": [
    "####### Discretizing the Dynamics Matrices ####### \n",
    "n = 37 \n",
    "m = 12 \n",
    "n_c = 6 \n",
    "h = 0.001\n",
    "\n",
    "O = [A B C]\n",
    "O = [O; zeros(m+n_c, n+m+n_c)]\n",
    "O_exp = exp(O.*h)\n",
    "Ad = O_exp[1:37, 1:n]\n",
    "Bd = O_exp[1:37, n+1:n+m]\n",
    "Cd = O_exp[1:37, n+m+1:n+m+n_c];\n",
    "Ad = attitude_error_jacobian' * Ad * attitude_error_jacobian  # convert quaternion error to 3 param representation\n",
    "Bd = attitude_error_jacobian' * Bd \n",
    "Cd = attitude_error_jacobian' * Cd;"
   ]
  },
  {
   "cell_type": "code",
   "execution_count": 72,
   "id": "2c079bb4",
   "metadata": {},
   "outputs": [
    {
     "name": "stdout",
     "output_type": "stream",
     "text": [
      "Backward Ricatti converged in 7020 iterations\n"
     ]
    }
   ],
   "source": [
    "############### Setting LQR Gains ###################\n",
    "Q_gains = zeros(36); \n",
    "Q_gains[1] = (1/deg2rad(15)^2) # attitude - x\n",
    "Q_gains[2] = (1/deg2rad(15)^2) # attitude - y\n",
    "Q_gains[3] = (1/deg2rad(15)^2)  # attitude - z \n",
    "Q_gains[4] = (0.0)        # position - x\n",
    "Q_gains[5] = (0.0)        # position - y\n",
    "Q_gains[6] = (0.0)        # position - z\n",
    "Q_gains[6 .+ [1,2,3,4]] .= 1 ./    ([deg2rad(15), deg2rad(15), deg2rad(15), deg2rad(15)]).^2  # Hips  (FR, FL, RR, RL)\n",
    "Q_gains[6 .+ [5,6,7,8]] .= 1 ./    ([deg2rad(15), deg2rad(15), deg2rad(15), deg2rad(15)]).^2  # Thighs (FR, FL, RR, RL)\n",
    "Q_gains[6 .+ [9,10,11,12]] .= 1 ./ ([deg2rad(15), deg2rad(15), deg2rad(15), deg2rad(15)]).^2   # Calves  (FR, FL, RR< RL)\n",
    "Q_gains[19] = Q_gains[1] / 1000 # Angular vel - x \n",
    "Q_gains[20] = Q_gains[2] / 1000 # Angular vel - y \n",
    "Q_gains[21] = Q_gains[3] / 1000 # Angular vel - z\n",
    "Q_gains[22] = Q_gains[4] / 1000 # Vel - x\n",
    "Q_gains[23] = Q_gains[5] / 1000 # Vel - y\n",
    "Q_gains[24] = Q_gains[6] / 1000 # Vel - z\n",
    "Q_gains[25:end] .= Q_gains[7:18] / 1000; # joint damping\n",
    "\n",
    "R_gains = zeros(12);\n",
    "R_gains[[1,2,3,4]] .= 1 ./    ([4.0, 1.0, 1.0, 4.0]).^2 #  Hips (FR, FL, RR, RL)\n",
    "R_gains[[5,6,7,8]] .= 1 ./    ([4.0, 1.0, 1.0, 4.0]).^2 #  Thighs\n",
    "R_gains[[9,10,11,12]] .= 1 ./ ([4.0, 1.0, 1.0, 4.0]).^2 #  Calves\n",
    "\n",
    "Q = sparse(Diagonal(Q_gains)) \n",
    "R = sparse(Diagonal(R_gains)) \n",
    "K = maximal_coordinate_lqr(Ad,Bd,Cd,D, Q,R);"
   ]
  },
  {
   "cell_type": "code",
   "execution_count": 73,
   "id": "3d5b0cf5",
   "metadata": {},
   "outputs": [],
   "source": [
    "open(\"maximal_lqr_gain.txt\", \"w\") do io\n",
    "    writedlm(io, K)\n",
    "end"
   ]
  },
  {
   "cell_type": "code",
   "execution_count": 87,
   "id": "d0e5b8ee",
   "metadata": {},
   "outputs": [
    {
     "data": {
      "text/plain": [
       "cay (generic function with 1 method)"
      ]
     },
     "execution_count": 87,
     "metadata": {},
     "output_type": "execute_result"
    }
   ],
   "source": [
    "function cay(g)\n",
    "    M = 1/sqrt(1+g'g)\n",
    "    [M, M*g[1], M*g[2], M*g[3]]\n",
    "end"
   ]
  },
  {
   "cell_type": "code",
   "execution_count": 121,
   "id": "915a6a57",
   "metadata": {},
   "outputs": [
    {
     "data": {
      "text/plain": [
       "3×3 Matrix{Float64}:\n",
       " -0.00410813   1.99999     0.0\n",
       " -1.99999     -0.00410403  0.0\n",
       " -0.00199775  -0.00409974  0.0"
      ]
     },
     "execution_count": 121,
     "metadata": {},
     "output_type": "execute_result"
    }
   ],
   "source": [
    "function rot(q)\n",
    "    Rotations.UnitQuaternion(q) * [0, 0., 1.0]\n",
    "end \n",
    "g = [0.0, 0., 0.]\n",
    "temp = x_eq[1:4]\n",
    "\n",
    "ForwardDiff.jacobian(x->rot(QuadrupedBalance.L(temp)*cay(x)), g)\n",
    "\n",
    "\n",
    "\n"
   ]
  },
  {
   "cell_type": "code",
   "execution_count": 122,
   "id": "4a7416b9",
   "metadata": {},
   "outputs": [
    {
     "data": {
      "text/plain": [
       "3×3 Matrix{Float64}:\n",
       " -0.00410813   1.99999      1.62028e-19\n",
       " -1.99999     -0.00410403   5.22501e-19\n",
       " -0.00199775  -0.00409974  -2.8749e-19"
      ]
     },
     "execution_count": 122,
     "metadata": {},
     "output_type": "execute_result"
    }
   ],
   "source": [
    "ForwardDiff.jacobian(x->rot(x), temp) * QuadrupedBalance.get_G(temp)"
   ]
  }
 ],
 "metadata": {
  "kernelspec": {
   "display_name": "Julia 1.6.3",
   "language": "julia",
   "name": "julia-1.6"
  },
  "language_info": {
   "file_extension": ".jl",
   "mimetype": "application/julia",
   "name": "julia",
   "version": "1.6.3"
  }
 },
 "nbformat": 4,
 "nbformat_minor": 5
}
